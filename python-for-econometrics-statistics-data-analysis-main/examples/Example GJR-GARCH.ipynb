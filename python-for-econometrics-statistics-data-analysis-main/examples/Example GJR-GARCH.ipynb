{
 "cells": [
  {
   "cell_type": "markdown",
   "metadata": {
    "pycharm": {
     "name": "#%% md\n"
    }
   },
   "source": [
    "### IPython Notebook Setup\n",
    "\n",
    "This commands are used needed for plots to appear in the notebook.\n"
   ]
  },
  {
   "cell_type": "markdown",
   "metadata": {
    "pycharm": {
     "name": "#%% md\n"
    }
   },
   "source": [
    "# Estimating the Parameters of a GJR-GARCH Model\n",
    "\n",
    "This example will highlight the steps needed to estimate the parameters of a GJR-GARCH(1,1,1) model with a constant mean. The volatility dynamics in a GJR-GARCH model are given by \n",
    "$$\\sigma_{t}^{2}=\\omega+\\sum_{i=1}^{p}\\alpha_{i}\\epsilon_{t-i}^{2}+\\sum_{j=1}^{o}\\gamma_{j}r_{t-j}^{2}I_{\\left[\\epsilon_{t-j}<0\\right]}+\\sum_{k=1}^{q}\\beta_{k}\\sigma_{t-k}^{2}.$$\n",
    "\n",
    "Returns are assumed to be conditionally normal, $r_{t}|\\mathcal{F}_{t-1}\\sim N\\left(\\mu,\\sigma_{t}^{2}\\right)$, $\\epsilon_{t}=r_{t}-\\mu$ and parameters are estimated by maximum likelihood. To estimate the parameters, it is necessary to:\n",
    "\n",
    "1. Produce some starting values\n",
    "2. Estimate the parameters using (quasi-) maximum likelihood\n",
    "3. Compute standard errors using a “sandwich” covariance estimator (also known as the [BollerslevWooldridge::1992] covariance estimator)\n",
    "\n",
    "The first task is to write the log-likelihood which can be used in an optimizer. The log-likelihood function will compute the volatility recursion and the log-likelihood. It will also, optionally, return the $T$ by 1 vector of individual log-likelihoods which are useful when approximating the scores."
   ]
  },
  {
   "cell_type": "code",
   "execution_count": null,
   "metadata": {},
   "outputs": [],
   "source": [
    "import matplotlib.pyplot as plt\n",
    "import numpy as np\n",
    "import pandas as pd\n",
    "from numpy import array, asarray, copy, diag, log, pi, size, sqrt, sum, zeros\n",
    "from numpy.linalg import inv\n",
    "from scipy.optimize import minimize"
   ]
  },
  {
   "cell_type": "markdown",
   "metadata": {
    "pycharm": {
     "name": "#%% md\n"
    }
   },
   "source": [
    "The conditional log-likelihood of a normal random variable is\n",
    "\n",
    "$$\\ln f\\left(r_{t}|\\mu,\\sigma_{t}^{2}\\right)=-\\frac{1}{2}\\left(\\ln2\\pi+\\ln\\sigma_{t}^{2}+\\frac{\\left(r_{t}-\\mu\\right)^{2}}{\\sigma_{t}^{2}}\\right),$$\n",
    "\n",
    "which is negated in the code since the optimizers all minimize."
   ]
  },
  {
   "cell_type": "code",
   "execution_count": null,
   "metadata": {},
   "outputs": [],
   "source": [
    "def gjr_garch_likelihood(parameters, data, sigma2, out=None):\n",
    "    \"\"\"Negative log-likelihood for GJR-GARCH(1,1,1) model\"\"\"\n",
    "    mu = parameters[0]\n",
    "    omega = parameters[1]\n",
    "    alpha = parameters[2]\n",
    "    gamma = parameters[3]\n",
    "    beta = parameters[4]\n",
    "\n",
    "    T = size(data, 0)\n",
    "    eps = data - mu\n",
    "    # Data and sigma2 are T by 1 vectors\n",
    "    for t in range(1, T):\n",
    "        sigma2[t] = (\n",
    "            omega\n",
    "            + alpha * eps[t - 1] ** 2\n",
    "            + gamma * eps[t - 1] ** 2 * (eps[t - 1] < 0)\n",
    "            + beta * sigma2[t - 1]\n",
    "        )\n",
    "\n",
    "    logliks = 0.5 * (log(2 * pi) + log(sigma2) + eps ** 2 / sigma2)\n",
    "    loglik = sum(logliks)\n",
    "\n",
    "    if out is None:\n",
    "        return loglik\n",
    "    else:\n",
    "        return loglik, logliks, copy(sigma2)"
   ]
  },
  {
   "cell_type": "markdown",
   "metadata": {
    "pycharm": {
     "name": "#%% md\n"
    }
   },
   "source": [
    "The keyword argument `out` has a default value of `None`, and is used to determine whether to return 1 output or 3. This is common practice since the optimizer requires a single output -- the log-likelihood function value, but it is also useful to be able to output other useful quantities, such as $\\left\\{ \\sigma_{t}^{2}\\right\\}$.\n",
    "\n",
    "The optimization is constrained so that $\\alpha+\\gamma/2+\\beta\\leq 1$, and the constraint is provided in a separate function."
   ]
  },
  {
   "cell_type": "code",
   "execution_count": null,
   "metadata": {},
   "outputs": [],
   "source": [
    "def gjr_constraint(parameters):\n",
    "    \"\"\"Constraint that alpha+gamma/2+beta<=1\"\"\"\n",
    "\n",
    "    alpha = parameters[2]\n",
    "    gamma = parameters[3]\n",
    "    beta = parameters[4]\n",
    "\n",
    "    return array([1 - alpha - gamma / 2 - beta])\n",
    "\n",
    "\n",
    "constraint = {\"type\": \"ineq\", \"fun\": gjr_constraint}"
   ]
  },
  {
   "cell_type": "markdown",
   "metadata": {
    "pycharm": {
     "name": "#%% md\n"
    }
   },
   "source": [
    "Note that the constraint function takes the same inputs as the negative of the log-likelihood function, even though only parameters is required to compute the constraint.\n",
    "\n",
    "It is necessary to discuss one other function before proceeding with the main block of code. The asymptotic variance is estimated using the “sandwich” form which is commonly expressed as\n",
    "\n",
    "$$\\mathcal{J}^{-1}\\mathcal{I}\\mathcal{J}^{-1}$$\n",
    "\n",
    "where $\\mathcal{J}$ is the expected Hessian and $\\mathcal{I}$ is the covariance of the scores. Both are numerically approximated, and the strategy for computing the Hessian is to use the definition that \n",
    "\n",
    "$$\\mathcal{J}_{ij}\\approx\\frac{f\\left(\\theta+e_{i}h_{i}+e_{j}h_{j}\\right)-f\\left(\\theta+e_{i}h_{i}\\right)-f\\left(\\theta+e_{j}h_{j}\\right)+f\\left(\\theta\\right)}{h_{i}h_{j}}$$\n",
    "\n",
    "where $h_{i}$ is a scalar “step size” and $e_{i}$ is a vector of 0s except for element $i$, which is 1. A 2-sided version of this approximation, which takes both forward and backward steps and then averages, is below. For more on numerical derivatives, see [FlanneryPressTeukolskyTeukolsky::1992]."
   ]
  },
  {
   "cell_type": "code",
   "execution_count": null,
   "metadata": {},
   "outputs": [],
   "source": [
    "def hessian_2sided(fun, theta, args):\n",
    "    f = fun(theta, *args)\n",
    "    h = 1e-5 * np.abs(theta)\n",
    "    thetah = theta + h\n",
    "    h = thetah - theta\n",
    "    K = size(theta, 0)\n",
    "    h = np.diag(h)\n",
    "\n",
    "    fp = zeros(K)\n",
    "    fm = zeros(K)\n",
    "    for i in range(K):\n",
    "        fp[i] = fun(theta + h[i], *args)\n",
    "        fm[i] = fun(theta - h[i], *args)\n",
    "\n",
    "    fpp = zeros((K, K))\n",
    "    fmm = zeros((K, K))\n",
    "    for i in range(K):\n",
    "        for j in range(i, K):\n",
    "            fpp[i, j] = fun(theta + h[i] + h[j], *args)\n",
    "            fpp[j, i] = fpp[i, j]\n",
    "            fmm[i, j] = fun(theta - h[i] - h[j], *args)\n",
    "            fmm[j, i] = fmm[i, j]\n",
    "\n",
    "    hh = diag(h)\n",
    "    hh = hh.reshape((K, 1))\n",
    "    hh = hh @ hh.T\n",
    "\n",
    "    H = zeros((K, K))\n",
    "    for i in range(K):\n",
    "        for j in range(i, K):\n",
    "            H[i, j] = (\n",
    "                (fpp[i, j] - fp[i] - fp[j] + f + f - fm[i] - fm[j] + fmm[i, j])\n",
    "                / hh[i, j]\n",
    "                / 2\n",
    "            )\n",
    "            H[j, i] = H[i, j]\n",
    "\n",
    "    return H"
   ]
  },
  {
   "cell_type": "markdown",
   "metadata": {
    "pycharm": {
     "name": "#%% md\n"
    }
   },
   "source": [
    "Finally, the code that does the actual work can be written. The first block imports the data, flips it using a slicing operator, and computes 100 times returns. Scaling data can be useful to improve optimizer performance, and ideally estimated parameters should have similar magnitudes (i.e. $\\omega\\approx.01$  and $\\alpha\\approx.05$)."
   ]
  },
  {
   "cell_type": "code",
   "execution_count": null,
   "metadata": {},
   "outputs": [],
   "source": [
    "# Import data\n",
    "ftse = pd.read_csv(\"FTSE_1984_2012.csv\", parse_dates=[0])\n",
    "# Set index\n",
    "ftse.index = ftse.pop(\"Date\")\n",
    "# Flip upside down\n",
    "ftse = ftse.iloc[::-1]\n",
    "# Compute returns\n",
    "ftse_price = ftse[\"Adj Close\"]\n",
    "ftse_return = 100 * ftse_price.pct_change().dropna()"
   ]
  },
  {
   "cell_type": "markdown",
   "metadata": {},
   "source": [
    "Good starting values are important. These are my guesses based on experience fitting these types of models models. An alternative is to attempt a crude grid search and use the best (smallest) log-likelihood value from the grid search."
   ]
  },
  {
   "cell_type": "code",
   "execution_count": null,
   "metadata": {
    "pycharm": {
     "name": "#%%\n"
    }
   },
   "outputs": [],
   "source": [
    "# Starting values\n",
    "starting_vals = array([ftse_return.mean(), ftse_return.var() * 0.01, 0.03, 0.09, 0.90])"
   ]
  },
  {
   "cell_type": "markdown",
   "metadata": {},
   "source": [
    "Bounds are used in estimation to ensure that all parameters in the conditional variance are $\\geq 0$  and to set sensible upper bounds on the mean and $\\omega$. The vector `sigma2` is then initialized, and the arguments are placed in a tuple. "
   ]
  },
  {
   "cell_type": "code",
   "execution_count": null,
   "metadata": {
    "pycharm": {
     "name": "#%%\n"
    }
   },
   "outputs": [],
   "source": [
    "# Estimate parameters\n",
    "finfo = np.finfo(np.float64)\n",
    "bounds = [\n",
    "    (-10 * ftse_return.mean(), 10 * ftse_return.mean()),\n",
    "    (finfo.eps, 2 * ftse_return.var()),\n",
    "    (0.0, 1.0),\n",
    "    (0.0, 1.0),\n",
    "    (0.0, 1.0),\n",
    "]\n",
    "\n",
    "T = ftse_return.shape[0]\n",
    "sigma2 = np.ones(T) * ftse_return.var()\n",
    "# Pass a NumPy array, not a pandas Series\n",
    "args = (np.asarray(ftse_return), sigma2)\n",
    "opt = minimize(\n",
    "    gjr_garch_likelihood,\n",
    "    starting_vals,\n",
    "    constraints=constraint,\n",
    "    bounds=bounds,\n",
    "    args=args,\n",
    ")\n",
    "estimates = opt.x"
   ]
  },
  {
   "cell_type": "markdown",
   "metadata": {},
   "source": [
    "The optimized log-likelihood and the time series of variances are computed by calling the objective using the keyword argument `out=True`. "
   ]
  },
  {
   "cell_type": "code",
   "execution_count": null,
   "metadata": {
    "pycharm": {
     "name": "#%%\n"
    }
   },
   "outputs": [],
   "source": [
    "loglik, logliks, sigma2final = gjr_garch_likelihood(\n",
    "    estimates, ftse_return, sigma2, out=True\n",
    ")"
   ]
  },
  {
   "cell_type": "markdown",
   "metadata": {},
   "source": [
    "Next, the numerical scores and the covariance of the scores are computed. These exploit the definition of a derivative, so that for a scalar function, \n",
    "\n",
    "$$\\frac{\\partial f\\left(\\theta\\right)}{\\partial\\theta_{i}}\\approx\\frac{f\\left(\\theta+e_{i}h_{i}\\right)-f\\left(\\theta\\right)}{h_{i}}.$$\n",
    " \n",
    "The covariance is computed as the outer product of the scores since the scores should have mean 0 when evaluated at the solution to the optimization problem."
   ]
  },
  {
   "cell_type": "code",
   "execution_count": null,
   "metadata": {
    "pycharm": {
     "name": "#%%\n"
    }
   },
   "outputs": [],
   "source": [
    "step = 1e-5 * estimates\n",
    "scores = zeros((T, 5))\n",
    "for i in range(5):\n",
    "    h = step[i]\n",
    "    delta = np.zeros(5)\n",
    "    delta[i] = h\n",
    "\n",
    "    loglik, logliksplus, sigma2 = gjr_garch_likelihood(\n",
    "        estimates + delta, np.asarray(ftse_return), sigma2, out=True\n",
    "    )\n",
    "    loglik, logliksminus, sigma2 = gjr_garch_likelihood(\n",
    "        estimates - delta, np.asarray(ftse_return), sigma2, out=True\n",
    "    )\n",
    "\n",
    "    scores[:, i] = (logliksplus - logliksminus) / (2 * h)\n",
    "\n",
    "I = (scores.T @ scores) / T"
   ]
  },
  {
   "cell_type": "markdown",
   "metadata": {},
   "source": [
    "The next block calls `hessian_2sided` to estimate the Hessian, and then computes the asymptotic covariance."
   ]
  },
  {
   "cell_type": "code",
   "execution_count": null,
   "metadata": {
    "pycharm": {
     "name": "#%%\n"
    }
   },
   "outputs": [],
   "source": [
    "J = hessian_2sided(gjr_garch_likelihood, estimates, args)\n",
    "J = J / T\n",
    "Jinv = inv(J)\n",
    "vcv = Jinv @ I @ Jinv / T"
   ]
  },
  {
   "cell_type": "markdown",
   "metadata": {},
   "source": [
    "The penultimate step is to pretty print the results and to produce a plot of the conditional variances."
   ]
  },
  {
   "cell_type": "code",
   "execution_count": null,
   "metadata": {
    "pycharm": {
     "name": "#%%\n"
    }
   },
   "outputs": [],
   "source": [
    "output = np.vstack((estimates, sqrt(diag(vcv)), estimates / sqrt(diag(vcv)))).T\n",
    "print(\"Parameter   Estimate       Std. Err.      T-stat\")\n",
    "param = [\"mu\", \"omega\", \"alpha\", \"gamma\", \"beta\"]\n",
    "for i in range(len(param)):\n",
    "    print(\n",
    "        f\"{param[i]:<11} {output[i,0]:>0.6f}        {output[i,1]:0.6f}    {output[i,2]: 0.5f}\"\n",
    "    )"
   ]
  },
  {
   "cell_type": "markdown",
   "metadata": {},
   "source": [
    "This final block produces a plot of the annualized conditional standard deviations."
   ]
  },
  {
   "cell_type": "code",
   "execution_count": null,
   "metadata": {},
   "outputs": [],
   "source": [
    "# Register date converters\n",
    "from pandas.plotting import register_matplotlib_converters\n",
    "\n",
    "register_matplotlib_converters()\n",
    "\n",
    "# Produce a plot\n",
    "dates = ftse.index[1:]\n",
    "fig = plt.figure()\n",
    "ax = fig.add_subplot(111)\n",
    "volatility = pd.DataFrame(np.sqrt(252 * sigma2), index=dates)\n",
    "ax.plot(volatility)\n",
    "ax.autoscale(tight=\"x\")\n",
    "fig.autofmt_xdate()\n",
    "fig.tight_layout(pad=1.5)\n",
    "ax.set_ylabel(\"Volatility\")\n",
    "ax.set_title(\"FTSE Annualized Volatility (GJR GARCH(1,1,1))\")\n",
    "plt.show()"
   ]
  }
 ],
 "metadata": {
  "kernelspec": {
   "display_name": "Python 3 (ipykernel)",
   "language": "python",
   "name": "python3"
  },
  "language_info": {
   "codemirror_mode": {
    "name": "ipython",
    "version": 3
   },
   "file_extension": ".py",
   "mimetype": "text/x-python",
   "name": "python",
   "nbconvert_exporter": "python",
   "pygments_lexer": "ipython3",
   "version": "3.9.6"
  }
 },
 "nbformat": 4,
 "nbformat_minor": 4
}

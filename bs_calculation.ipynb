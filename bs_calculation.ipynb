{
 "cells": [
  {
   "cell_type": "code",
   "execution_count": 6,
   "metadata": {},
   "outputs": [],
   "source": [
    "import numpy as np\n",
    "from scipy.stats import norm"
   ]
  },
  {
   "cell_type": "code",
   "execution_count": 1,
   "metadata": {},
   "outputs": [],
   "source": [
    "# bls model\n",
    "def bls_price(S,K,r,T,sigma,cp_flag):\n",
    "    d1 = (np.log(S / K) + (r + 0.5 * sigma ** 2) * T) / (sigma * np.sqrt(T))\n",
    "    d2 = d1 - sigma * np.sqrt(T)\n",
    "    if cp_flag == 'C':\n",
    "        return S * norm.cdf(d1) - K * np.exp(-r * T) * norm.cdf(d2)\n",
    "    elif cp_flag == 'P':\n",
    "        return K * np.exp(-r * T) * norm.cdf(-d2) - S * norm.cdf(-d1)\n",
    "    \n",
    "def bls_vega(S,K,r,T,sigma):\n",
    "    d1 = (np.log(S / K) + (r + 0.5 * sigma ** 2) * T) / (sigma * np.sqrt(T))\n",
    "    vega = S * norm.pdf(d1, 0.0, 1.0) * np.sqrt(T)\n",
    "    return vega\n",
    "\n",
    "def bls_impv(S,K,r,T,value,cp_flag):\n",
    "    MAX_ITERATIONS = 100\n",
    "    PRECISION = 1.0e-5\n",
    "    sigma = 0.5\n",
    "    for i in range(MAX_ITERATIONS):\n",
    "        # every iter calculate a new pair of price and vega\n",
    "        price = bls_price(S,K,r,T,sigma,cp_flag)\n",
    "        vega = bls_vega(S,K,r,T,sigma)\n",
    "        diff = price - value\n",
    "        if (abs(diff) < PRECISION):\n",
    "            return sigma\n",
    "        # divide by zero error\n",
    "        elif vega != 0:\n",
    "            sigma = sigma - diff/vega\n",
    "        elif vega == 0:\n",
    "            return -1"
   ]
  },
  {
   "cell_type": "code",
   "execution_count": 2,
   "metadata": {},
   "outputs": [],
   "source": [
    "# black model\n",
    "def black_price(F,K,r,T,sigma,cp_flag):\n",
    "    d1 = (np.log(F / K) + (0.5 * sigma ** 2) * T) / (sigma * np.sqrt(T))\n",
    "    d2 = (np.log(F / K) - (0.5 * sigma ** 2) * T) / (sigma * np.sqrt(T))\n",
    "    if cp_flag == 'C':\n",
    "        return np.exp(-r * T) * (F * norm.cdf(d1) - K * norm.cdf(d2))\n",
    "    elif cp_flag == 'P':\n",
    "        return np.exp(-r * T) * (K * norm.cdf(-d2) - F * norm.cdf(-d1))\n",
    "    \n",
    "def black_vega(F,K,r,T,sigma):\n",
    "    d1 = (np.log(F / K) + (0.5 * sigma ** 2) * T) / (sigma * np.sqrt(T))\n",
    "    vega = F * norm.pdf(d1) * np.sqrt(T)\n",
    "    return vega\n",
    "\n",
    "# old version, will encounter devide by zero error\n",
    "def black_impv_0(F,K,r,T,value,cp_flag):\n",
    "    MAX_ITERATIONS = 100\n",
    "    PRECISION = 1.0e-5\n",
    "    sigma = 0.5\n",
    "    for i in range(MAX_ITERATIONS):\n",
    "        # every iter calculate a new pair of price and vega\n",
    "        price = black_price(F,K,r,T,sigma,cp_flag)\n",
    "        vega = black_vega(F,K,r,T,sigma)\n",
    "        diff = price - value\n",
    "        if (abs(diff) < PRECISION):\n",
    "            return sigma\n",
    "        sigma = sigma - diff/vega\n",
    "        print(sigma)\n",
    "    return sigma\n",
    "\n",
    "def black_impv(F,K,r,T,value,cp_flag):\n",
    "    MAX_ITERATIONS = 100\n",
    "    PRECISION = 1.0e-5\n",
    "    sigma = 0.5\n",
    "    for i in range(MAX_ITERATIONS):\n",
    "        # every iter calculate a new pair of price and vega\n",
    "        price = black_price(F,K,r,T,sigma,cp_flag)\n",
    "        vega = black_vega(F,K,r,T,sigma)\n",
    "        diff = price - value\n",
    "        if (abs(diff) < PRECISION):\n",
    "            return sigma\n",
    "        # divide by zero error\n",
    "        elif vega != 0:\n",
    "            sigma = sigma - diff/vega\n",
    "        elif vega == 0:\n",
    "            return -1"
   ]
  },
  {
   "cell_type": "code",
   "execution_count": 8,
   "metadata": {},
   "outputs": [
    {
     "data": {
      "text/plain": [
       "2.4004610869656666"
      ]
     },
     "execution_count": 8,
     "metadata": {},
     "output_type": "execute_result"
    }
   ],
   "source": [
    "bls_price(49,50,0.05,0.3846,0.2,'C')"
   ]
  }
 ],
 "metadata": {
  "file_extension": ".py",
  "kernelspec": {
   "display_name": "Python 3.7.6 64-bit",
   "language": "python",
   "name": "python37664bitc80e101bc3c9425499af26a335017bea"
  },
  "language_info": {
   "codemirror_mode": {
    "name": "ipython",
    "version": 3
   },
   "file_extension": ".py",
   "mimetype": "text/x-python",
   "name": "python",
   "nbconvert_exporter": "python",
   "pygments_lexer": "ipython3",
   "version": "3.7.9"
  },
  "mimetype": "text/x-python",
  "name": "python",
  "npconvert_exporter": "python",
  "pygments_lexer": "ipython3",
  "toc": {
   "base_numbering": 1,
   "nav_menu": {},
   "number_sections": true,
   "sideBar": true,
   "skip_h1_title": false,
   "title_cell": "Table of Contents",
   "title_sidebar": "Contents",
   "toc_cell": false,
   "toc_position": {},
   "toc_section_display": true,
   "toc_window_display": false
  },
  "version": 3
 },
 "nbformat": 4,
 "nbformat_minor": 2
}

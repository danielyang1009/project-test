{
 "cells": [
  {
   "cell_type": "code",
   "execution_count": 2,
   "id": "e3b9cf62",
   "metadata": {},
   "outputs": [],
   "source": [
    "import numpy as np\n",
    "import pandas as pd\n",
    "import statsmodels.api as sm"
   ]
  },
  {
   "cell_type": "markdown",
   "id": "37c861dd",
   "metadata": {},
   "source": [
    "## 测试TS回归，单因变量vs多因变量"
   ]
  },
  {
   "cell_type": "code",
   "execution_count": 3,
   "id": "95b42273",
   "metadata": {},
   "outputs": [],
   "source": [
    "# 3 factors\n",
    "RP = np.random.normal(loc=0.0, scale=1.0, size=(10,3))\n",
    "# 6 asset\n",
    "Y = np.random.normal(loc=0.0, scale=1.0, size=(10,6))\n",
    "# time-series average\n",
    "EY = Y.mean(0)\n",
    "ERP = RP.mean(0)"
   ]
  },
  {
   "cell_type": "code",
   "execution_count": null,
   "id": "a4073293",
   "metadata": {},
   "outputs": [],
   "source": [
    "pd.DataFrame(Y)"
   ]
  },
  {
   "cell_type": "code",
   "execution_count": null,
   "id": "aeae6964",
   "metadata": {},
   "outputs": [],
   "source": [
    "pd.DataFrame(RP)"
   ]
  },
  {
   "cell_type": "code",
   "execution_count": null,
   "id": "73b534be",
   "metadata": {
    "pycharm": {
     "name": "#%%\n"
    }
   },
   "outputs": [],
   "source": [
    "pd.DataFrame(EY)"
   ]
  },
  {
   "cell_type": "code",
   "execution_count": null,
   "id": "b751c63b",
   "metadata": {},
   "outputs": [],
   "source": [
    "pd.DataFrame(ERP)"
   ]
  },
  {
   "cell_type": "code",
   "execution_count": null,
   "id": "fbc55a3a",
   "metadata": {},
   "outputs": [],
   "source": [
    "reg_1 = sm.OLS(Y[:,0],sm.add_constant(RP)).fit()"
   ]
  },
  {
   "cell_type": "code",
   "execution_count": null,
   "id": "352c19f9",
   "metadata": {},
   "outputs": [],
   "source": [
    "reg_1.params"
   ]
  },
  {
   "cell_type": "code",
   "execution_count": null,
   "id": "04deb1a6",
   "metadata": {},
   "outputs": [],
   "source": [
    "reg_1.resid"
   ]
  },
  {
   "cell_type": "code",
   "execution_count": null,
   "id": "85c1687b",
   "metadata": {},
   "outputs": [],
   "source": [
    "alpha = reg_1.params[0]\n",
    "beta = reg_1.params[1:]"
   ]
  },
  {
   "cell_type": "code",
   "execution_count": null,
   "id": "2170e5a7",
   "metadata": {
    "scrolled": true
   },
   "outputs": [],
   "source": [
    "beta.dot(ERP) + alpha"
   ]
  },
  {
   "cell_type": "code",
   "execution_count": null,
   "id": "c0acf9cf",
   "metadata": {},
   "outputs": [],
   "source": [
    "EY[0]"
   ]
  },
  {
   "cell_type": "markdown",
   "id": "313e0524",
   "metadata": {},
   "source": [
    "### 多因变量"
   ]
  },
  {
   "cell_type": "code",
   "execution_count": null,
   "id": "6c4ee633",
   "metadata": {},
   "outputs": [],
   "source": [
    "# reg\n",
    "reg = sm.OLS(Y,sm.add_constant(RP)).fit()\n",
    "# first row is alpha for every asset i\n",
    "alpha = reg.params[0,:]\n",
    "# risk exposure for every asset i (column-wise)\n",
    "beta = reg.params[1:,:]\n",
    "# time-series mean for every asset i\n",
    "EY = Y.mean(0)\n",
    "# time-series mean for every asset i\n",
    "ERP = RP.mean(0)"
   ]
  },
  {
   "cell_type": "code",
   "execution_count": null,
   "id": "388c24f6",
   "metadata": {},
   "outputs": [],
   "source": [
    "# 就是对Y单列进行回归\n",
    "# 与单列回归结果相同\n",
    "pd.DataFrame(reg.params)"
   ]
  },
  {
   "cell_type": "code",
   "execution_count": null,
   "id": "4a4669de",
   "metadata": {},
   "outputs": [],
   "source": [
    "alpha + np.matmul(ERP,beta)"
   ]
  },
  {
   "cell_type": "code",
   "execution_count": null,
   "id": "6f41cbcb",
   "metadata": {},
   "outputs": [],
   "source": [
    "EY"
   ]
  },
  {
   "cell_type": "markdown",
   "id": "9a2bed3f",
   "metadata": {},
   "source": [
    "## section 2"
   ]
  },
  {
   "cell_type": "code",
   "execution_count": null,
   "id": "5d41e7a4",
   "metadata": {},
   "outputs": [],
   "source": [
    "    X = np.random.normal(loc=0.0, scale=1.0, size=(2000,10))\n",
    "    y_list = []\n",
    "    for i in range(10) :\n",
    "        b = np.random.uniform(low=0.1, high=1.1, size=(10,1))\n",
    "        e = np.random.normal(loc=0.0, scale=1.0, size=(2000,1))\n",
    "        y = X.dot(b) + e \n",
    "        y_list.append(y)"
   ]
  },
  {
   "cell_type": "code",
   "execution_count": null,
   "id": "1179bc46",
   "metadata": {},
   "outputs": [],
   "source": [
    "len(y_list)"
   ]
  },
  {
   "cell_type": "code",
   "execution_count": null,
   "id": "e224878d",
   "metadata": {},
   "outputs": [],
   "source": [
    "len(y_list[0])"
   ]
  },
  {
   "cell_type": "code",
   "execution_count": null,
   "id": "9059fed7",
   "metadata": {},
   "outputs": [],
   "source": [
    "pd.DataFrame(X)"
   ]
  },
  {
   "cell_type": "markdown",
   "id": "bc0571c7",
   "metadata": {},
   "source": [
    "## CS 回归"
   ]
  },
  {
   "cell_type": "code",
   "execution_count": 4,
   "id": "bf3ea18a",
   "metadata": {},
   "outputs": [],
   "source": [
    "# t= 1,2,...,10\n",
    "# 3 factors\n",
    "F = np.random.normal(loc=0.0, scale=1.0, size=(10,3))\n",
    "# 6 asset, excess return\n",
    "Y = np.random.normal(loc=0.0, scale=1.0, size=(10,6))"
   ]
  },
  {
   "cell_type": "code",
   "execution_count": 13,
   "id": "03c0e28d",
   "metadata": {},
   "outputs": [],
   "source": [
    "reg_ts = sm.OLS(Y,sm.add_constant(F)).fit()\n",
    "# first row is intercept for every asset i\n",
    "a = reg_ts.params[0,:]\n",
    "# estimated risk exposure for every asset i (column-wise)\n",
    "beta = reg_ts.params[1:,:]"
   ]
  },
  {
   "cell_type": "code",
   "execution_count": 14,
   "id": "4c7284a7",
   "metadata": {},
   "outputs": [
    {
     "data": {
      "text/html": [
       "<div>\n",
       "<style scoped>\n",
       "    .dataframe tbody tr th:only-of-type {\n",
       "        vertical-align: middle;\n",
       "    }\n",
       "\n",
       "    .dataframe tbody tr th {\n",
       "        vertical-align: top;\n",
       "    }\n",
       "\n",
       "    .dataframe thead th {\n",
       "        text-align: right;\n",
       "    }\n",
       "</style>\n",
       "<table border=\"1\" class=\"dataframe\">\n",
       "  <thead>\n",
       "    <tr style=\"text-align: right;\">\n",
       "      <th></th>\n",
       "      <th>0</th>\n",
       "      <th>1</th>\n",
       "      <th>2</th>\n",
       "      <th>3</th>\n",
       "      <th>4</th>\n",
       "      <th>5</th>\n",
       "    </tr>\n",
       "  </thead>\n",
       "  <tbody>\n",
       "    <tr>\n",
       "      <th>0</th>\n",
       "      <td>-0.341374</td>\n",
       "      <td>0.092723</td>\n",
       "      <td>0.424622</td>\n",
       "      <td>0.031597</td>\n",
       "      <td>0.047159</td>\n",
       "      <td>0.195053</td>\n",
       "    </tr>\n",
       "    <tr>\n",
       "      <th>1</th>\n",
       "      <td>-0.463374</td>\n",
       "      <td>-0.224426</td>\n",
       "      <td>0.867985</td>\n",
       "      <td>-0.943783</td>\n",
       "      <td>-0.203909</td>\n",
       "      <td>0.185636</td>\n",
       "    </tr>\n",
       "    <tr>\n",
       "      <th>2</th>\n",
       "      <td>-0.080338</td>\n",
       "      <td>-0.201688</td>\n",
       "      <td>0.044536</td>\n",
       "      <td>0.313736</td>\n",
       "      <td>-0.505022</td>\n",
       "      <td>-0.542245</td>\n",
       "    </tr>\n",
       "    <tr>\n",
       "      <th>3</th>\n",
       "      <td>0.162268</td>\n",
       "      <td>-0.042371</td>\n",
       "      <td>-0.320638</td>\n",
       "      <td>-0.231900</td>\n",
       "      <td>0.350961</td>\n",
       "      <td>-1.238862</td>\n",
       "    </tr>\n",
       "  </tbody>\n",
       "</table>\n",
       "</div>"
      ],
      "text/plain": [
       "          0         1         2         3         4         5\n",
       "0 -0.341374  0.092723  0.424622  0.031597  0.047159  0.195053\n",
       "1 -0.463374 -0.224426  0.867985 -0.943783 -0.203909  0.185636\n",
       "2 -0.080338 -0.201688  0.044536  0.313736 -0.505022 -0.542245\n",
       "3  0.162268 -0.042371 -0.320638 -0.231900  0.350961 -1.238862"
      ]
     },
     "execution_count": 14,
     "metadata": {},
     "output_type": "execute_result"
    }
   ],
   "source": [
    "pd.DataFrame(reg_ts.params)"
   ]
  },
  {
   "cell_type": "code",
   "execution_count": 9,
   "id": "5b182b52",
   "metadata": {},
   "outputs": [],
   "source": [
    "EY = Y.mean(0)"
   ]
  },
  {
   "cell_type": "code",
   "execution_count": 15,
   "id": "d4cc0f29",
   "metadata": {},
   "outputs": [
    {
     "data": {
      "text/plain": [
       "array([-0.05195839,  0.17819575, -0.1332985 ,  0.4886619 ,  0.21737735,\n",
       "       -0.35241904])"
      ]
     },
     "execution_count": 15,
     "metadata": {},
     "output_type": "execute_result"
    }
   ],
   "source": [
    "EY"
   ]
  },
  {
   "cell_type": "code",
   "execution_count": 18,
   "id": "3ea2f1f6",
   "metadata": {},
   "outputs": [],
   "source": [
    "reg_cs = sm.OLS(EY, beta.T).fit()"
   ]
  },
  {
   "cell_type": "code",
   "execution_count": 21,
   "id": "4552f3cc",
   "metadata": {},
   "outputs": [],
   "source": [
    "RP = reg_cs.params"
   ]
  },
  {
   "cell_type": "code",
   "execution_count": 23,
   "id": "fb818b43",
   "metadata": {},
   "outputs": [],
   "source": [
    "alpha = reg_cs.resid"
   ]
  }
 ],
 "metadata": {
  "kernelspec": {
   "display_name": "Python 3 (ipykernel)",
   "language": "python",
   "name": "python3"
  },
  "language_info": {
   "codemirror_mode": {
    "name": "ipython",
    "version": 3
   },
   "file_extension": ".py",
   "mimetype": "text/x-python",
   "name": "python",
   "nbconvert_exporter": "python",
   "pygments_lexer": "ipython3",
   "version": "3.8.12"
  }
 },
 "nbformat": 4,
 "nbformat_minor": 5
}

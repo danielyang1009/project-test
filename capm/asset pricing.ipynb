{
 "cells": [
  {
   "cell_type": "markdown",
   "id": "c9b84ee5-26d5-40da-9e57-73b0955d9759",
   "metadata": {},
   "source": [
    "# Asset pricing"
   ]
  },
  {
   "cell_type": "code",
   "execution_count": 2,
   "id": "f59e3a65-653a-486c-88d3-e1143bdcad25",
   "metadata": {},
   "outputs": [],
   "source": [
    "import numpy as np\n",
    "import pandas as pd\n",
    "import statsmodels.api as sm\n",
    "import scipy.stats\n",
    "\n",
    "data = pd.read_csv('input/FamaFrench.csv')"
   ]
  },
  {
   "cell_type": "code",
   "execution_count": 3,
   "id": "bd14bfbe-b563-4c96-962d-58885650eb20",
   "metadata": {},
   "outputs": [
    {
     "name": "stdout",
     "output_type": "stream",
     "text": [
      "<class 'pandas.core.frame.DataFrame'>\n",
      "RangeIndex: 1026 entries, 0 to 1025\n",
      "Data columns (total 30 columns):\n",
      " #   Column  Non-Null Count  Dtype  \n",
      "---  ------  --------------  -----  \n",
      " 0   date    1026 non-null   int64  \n",
      " 1   VWMe    1026 non-null   float64\n",
      " 2   SMB     1026 non-null   float64\n",
      " 3   HML     1026 non-null   float64\n",
      " 4   RF      1026 non-null   float64\n",
      " 5   S1V1    1026 non-null   float64\n",
      " 6   S1V2    1026 non-null   float64\n",
      " 7   S1V3    1026 non-null   float64\n",
      " 8   S1V4    1026 non-null   float64\n",
      " 9   S1V5    1026 non-null   float64\n",
      " 10  S2V1    1026 non-null   float64\n",
      " 11  S2V2    1026 non-null   float64\n",
      " 12  S2V3    1026 non-null   float64\n",
      " 13  S2V4    1026 non-null   float64\n",
      " 14  S2V5    1026 non-null   float64\n",
      " 15  S3V1    1026 non-null   float64\n",
      " 16  S3V2    1026 non-null   float64\n",
      " 17  S3V3    1026 non-null   float64\n",
      " 18  S3V4    1026 non-null   float64\n",
      " 19  S3V5    1026 non-null   float64\n",
      " 20  S4V1    1026 non-null   float64\n",
      " 21  S4V2    1026 non-null   float64\n",
      " 22  S4V3    1026 non-null   float64\n",
      " 23  S4V4    1026 non-null   float64\n",
      " 24  S4V5    1026 non-null   float64\n",
      " 25  S5V1    1026 non-null   float64\n",
      " 26  S5V2    1026 non-null   float64\n",
      " 27  S5V3    1026 non-null   float64\n",
      " 28  S5V4    1026 non-null   float64\n",
      " 29  S5V5    1026 non-null   float64\n",
      "dtypes: float64(29), int64(1)\n",
      "memory usage: 240.6 KB\n"
     ]
    }
   ],
   "source": [
    "data.info()"
   ]
  },
  {
   "cell_type": "code",
   "execution_count": 6,
   "id": "c3f21209-153d-42df-a8ef-ca1a29b61a6e",
   "metadata": {},
   "outputs": [
    {
     "data": {
      "text/html": [
       "<div>\n",
       "<style scoped>\n",
       "    .dataframe tbody tr th:only-of-type {\n",
       "        vertical-align: middle;\n",
       "    }\n",
       "\n",
       "    .dataframe tbody tr th {\n",
       "        vertical-align: top;\n",
       "    }\n",
       "\n",
       "    .dataframe thead th {\n",
       "        text-align: right;\n",
       "    }\n",
       "</style>\n",
       "<table border=\"1\" class=\"dataframe\">\n",
       "  <thead>\n",
       "    <tr style=\"text-align: right;\">\n",
       "      <th></th>\n",
       "      <th>date</th>\n",
       "      <th>VWMe</th>\n",
       "      <th>SMB</th>\n",
       "      <th>HML</th>\n",
       "      <th>RF</th>\n",
       "      <th>S1V1</th>\n",
       "      <th>S1V2</th>\n",
       "      <th>S1V3</th>\n",
       "      <th>S1V4</th>\n",
       "      <th>S1V5</th>\n",
       "      <th>...</th>\n",
       "      <th>S4V1</th>\n",
       "      <th>S4V2</th>\n",
       "      <th>S4V3</th>\n",
       "      <th>S4V4</th>\n",
       "      <th>S4V5</th>\n",
       "      <th>S5V1</th>\n",
       "      <th>S5V2</th>\n",
       "      <th>S5V3</th>\n",
       "      <th>S5V4</th>\n",
       "      <th>S5V5</th>\n",
       "    </tr>\n",
       "  </thead>\n",
       "  <tbody>\n",
       "    <tr>\n",
       "      <th>0</th>\n",
       "      <td>192607</td>\n",
       "      <td>2.62</td>\n",
       "      <td>-2.16</td>\n",
       "      <td>-2.92</td>\n",
       "      <td>0.22</td>\n",
       "      <td>3.61</td>\n",
       "      <td>-3.69</td>\n",
       "      <td>-0.64</td>\n",
       "      <td>-1.42</td>\n",
       "      <td>-0.64</td>\n",
       "      <td>...</td>\n",
       "      <td>3.29</td>\n",
       "      <td>1.24</td>\n",
       "      <td>1.29</td>\n",
       "      <td>0.55</td>\n",
       "      <td>2.56</td>\n",
       "      <td>3.18</td>\n",
       "      <td>6.08</td>\n",
       "      <td>2.00</td>\n",
       "      <td>2.93</td>\n",
       "      <td>0.56</td>\n",
       "    </tr>\n",
       "    <tr>\n",
       "      <th>1</th>\n",
       "      <td>192608</td>\n",
       "      <td>2.56</td>\n",
       "      <td>-1.49</td>\n",
       "      <td>4.88</td>\n",
       "      <td>0.25</td>\n",
       "      <td>-1.94</td>\n",
       "      <td>-6.78</td>\n",
       "      <td>3.81</td>\n",
       "      <td>1.21</td>\n",
       "      <td>4.82</td>\n",
       "      <td>...</td>\n",
       "      <td>0.76</td>\n",
       "      <td>4.11</td>\n",
       "      <td>1.93</td>\n",
       "      <td>2.13</td>\n",
       "      <td>4.47</td>\n",
       "      <td>1.17</td>\n",
       "      <td>4.10</td>\n",
       "      <td>1.82</td>\n",
       "      <td>5.64</td>\n",
       "      <td>7.76</td>\n",
       "    </tr>\n",
       "    <tr>\n",
       "      <th>2</th>\n",
       "      <td>192609</td>\n",
       "      <td>0.36</td>\n",
       "      <td>-1.38</td>\n",
       "      <td>-0.01</td>\n",
       "      <td>0.23</td>\n",
       "      <td>-6.41</td>\n",
       "      <td>3.45</td>\n",
       "      <td>-5.19</td>\n",
       "      <td>3.08</td>\n",
       "      <td>0.75</td>\n",
       "      <td>...</td>\n",
       "      <td>1.87</td>\n",
       "      <td>-0.08</td>\n",
       "      <td>-1.84</td>\n",
       "      <td>1.56</td>\n",
       "      <td>2.18</td>\n",
       "      <td>-1.37</td>\n",
       "      <td>3.66</td>\n",
       "      <td>-0.23</td>\n",
       "      <td>-0.30</td>\n",
       "      <td>-2.43</td>\n",
       "    </tr>\n",
       "    <tr>\n",
       "      <th>3</th>\n",
       "      <td>192610</td>\n",
       "      <td>-3.43</td>\n",
       "      <td>0.04</td>\n",
       "      <td>0.71</td>\n",
       "      <td>0.32</td>\n",
       "      <td>-8.66</td>\n",
       "      <td>-10.02</td>\n",
       "      <td>-3.80</td>\n",
       "      <td>0.04</td>\n",
       "      <td>-3.06</td>\n",
       "      <td>...</td>\n",
       "      <td>0.13</td>\n",
       "      <td>-1.71</td>\n",
       "      <td>-2.33</td>\n",
       "      <td>-2.93</td>\n",
       "      <td>-5.21</td>\n",
       "      <td>-3.14</td>\n",
       "      <td>-3.13</td>\n",
       "      <td>-2.21</td>\n",
       "      <td>-4.59</td>\n",
       "      <td>-5.81</td>\n",
       "    </tr>\n",
       "    <tr>\n",
       "      <th>4</th>\n",
       "      <td>192611</td>\n",
       "      <td>2.44</td>\n",
       "      <td>-0.24</td>\n",
       "      <td>-0.31</td>\n",
       "      <td>0.31</td>\n",
       "      <td>3.77</td>\n",
       "      <td>12.42</td>\n",
       "      <td>2.31</td>\n",
       "      <td>-3.36</td>\n",
       "      <td>1.40</td>\n",
       "      <td>...</td>\n",
       "      <td>3.54</td>\n",
       "      <td>2.28</td>\n",
       "      <td>3.85</td>\n",
       "      <td>5.00</td>\n",
       "      <td>1.78</td>\n",
       "      <td>4.31</td>\n",
       "      <td>2.61</td>\n",
       "      <td>1.47</td>\n",
       "      <td>3.55</td>\n",
       "      <td>2.56</td>\n",
       "    </tr>\n",
       "  </tbody>\n",
       "</table>\n",
       "<p>5 rows × 30 columns</p>\n",
       "</div>"
      ],
      "text/plain": [
       "     date  VWMe   SMB   HML    RF  S1V1   S1V2  S1V3  S1V4  S1V5  ...  S4V1  \\\n",
       "0  192607  2.62 -2.16 -2.92  0.22  3.61  -3.69 -0.64 -1.42 -0.64  ...  3.29   \n",
       "1  192608  2.56 -1.49  4.88  0.25 -1.94  -6.78  3.81  1.21  4.82  ...  0.76   \n",
       "2  192609  0.36 -1.38 -0.01  0.23 -6.41   3.45 -5.19  3.08  0.75  ...  1.87   \n",
       "3  192610 -3.43  0.04  0.71  0.32 -8.66 -10.02 -3.80  0.04 -3.06  ...  0.13   \n",
       "4  192611  2.44 -0.24 -0.31  0.31  3.77  12.42  2.31 -3.36  1.40  ...  3.54   \n",
       "\n",
       "   S4V2  S4V3  S4V4  S4V5  S5V1  S5V2  S5V3  S5V4  S5V5  \n",
       "0  1.24  1.29  0.55  2.56  3.18  6.08  2.00  2.93  0.56  \n",
       "1  4.11  1.93  2.13  4.47  1.17  4.10  1.82  5.64  7.76  \n",
       "2 -0.08 -1.84  1.56  2.18 -1.37  3.66 -0.23 -0.30 -2.43  \n",
       "3 -1.71 -2.33 -2.93 -5.21 -3.14 -3.13 -2.21 -4.59 -5.81  \n",
       "4  2.28  3.85  5.00  1.78  4.31  2.61  1.47  3.55  2.56  \n",
       "\n",
       "[5 rows x 30 columns]"
      ]
     },
     "execution_count": 6,
     "metadata": {},
     "output_type": "execute_result"
    }
   ],
   "source": [
    "data.head()"
   ]
  },
  {
   "cell_type": "code",
   "execution_count": 7,
   "id": "61c0584f-aa27-47d0-b529-cdd51fdf2f92",
   "metadata": {},
   "outputs": [],
   "source": [
    "dates = data['date'].values\n",
    "factors = data[['VWMe', 'SMB', 'HML']].values\n",
    "riskfree = data['RF'].values\n",
    "portfolios = data.iloc[:, 5:].values\n",
    "\n",
    "factors = np.mat(factors)\n",
    "riskfree = np.mat(riskfree)\n",
    "portfolios = np.mat(portfolios)"
   ]
  },
  {
   "cell_type": "code",
   "execution_count": 8,
   "id": "78693035-5950-4a7d-963d-d0bdfd1d2a5c",
   "metadata": {},
   "outputs": [
    {
     "data": {
      "text/plain": [
       "(1026, 25)"
      ]
     },
     "execution_count": 8,
     "metadata": {},
     "output_type": "execute_result"
    }
   ],
   "source": [
    "portfolios.shape"
   ]
  },
  {
   "cell_type": "code",
   "execution_count": 9,
   "id": "d2c8d5d0-a8f3-4fd7-b4fb-060d44fd6093",
   "metadata": {},
   "outputs": [
    {
     "data": {
      "text/plain": [
       "(1026, 3)"
      ]
     },
     "execution_count": 9,
     "metadata": {},
     "output_type": "execute_result"
    }
   ],
   "source": [
    "factors.shape"
   ]
  }
 ],
 "metadata": {
  "kernelspec": {
   "display_name": "Python 3 (ipykernel)",
   "language": "python",
   "name": "python3"
  },
  "language_info": {
   "codemirror_mode": {
    "name": "ipython",
    "version": 3
   },
   "file_extension": ".py",
   "mimetype": "text/x-python",
   "name": "python",
   "nbconvert_exporter": "python",
   "pygments_lexer": "ipython3",
   "version": "3.8.12"
  }
 },
 "nbformat": 4,
 "nbformat_minor": 5
}

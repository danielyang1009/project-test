{
 "cells": [
  {
   "cell_type": "code",
   "execution_count": null,
   "id": "d7e0202c-acf7-4fb2-aa37-d4c0e0c95473",
   "metadata": {},
   "outputs": [],
   "source": [
    "import numpy as np\n",
    "import scipy.stats as stats\n",
    "from scipy.stats import norm\n",
    "from scipy.stats import lognorm\n",
    "from scipy.special import erf\n",
    "import matplotlib.pyplot as plt"
   ]
  },
  {
   "cell_type": "code",
   "execution_count": null,
   "id": "c3d74a9e-0ccb-4ff9-a7c0-911c9b94a0c0",
   "metadata": {},
   "outputs": [],
   "source": [
    "import bqrt as bq"
   ]
  },
  {
   "cell_type": "code",
   "execution_count": null,
   "id": "898096c3-bb25-4b08-bec0-a2fb776e8d0a",
   "metadata": {},
   "outputs": [],
   "source": [
    "# Reference\n",
    "# https://en.wikipedia.org/wiki/Normal_distribution\n",
    "# https://en.wikipedia.org/wiki/Log-normal_distribution\n",
    "# https://en.wikipedia.org/wiki/Error_function\n",
    "# https://docs.scipy.org/doc/scipy/reference/generated/scipy.stats.norm.html\n",
    "# https://docs.scipy.org/doc/scipy/reference/reference/generated/scipy.stats.lognorm.html\n",
    "\n",
    "def norm_pdf(x,mu,sigma):\n",
    "    return 1/(sigma*np.sqrt(2*np.pi)) * np.exp(-(x-mu)**2/(2*sigma**2))\n",
    "\n",
    "def norm_cdf(x,mu,sigma):\n",
    "    return 0.5*( 1 + erf((x-mu)/(sigma*np.sqrt(2))))\n",
    "             \n",
    "def logn_pdf(x,mu,sigma):\n",
    "    return 1/(x*sigma*np.sqrt(2*np.pi)) * np.exp(-(np.log(x)-mu)**2/(2*sigma**2))\n",
    "\n",
    "def logn_cdf(x,mu,sigma):\n",
    "    return 0.5*( 1 + erf((np.log(x)-mu)/(sigma*np.sqrt(2))))\n",
    "\n",
    "# normal mean, calculated from log-normal mu and sigma\n",
    "def norm_mean(logn_mean,logn_var):\n",
    "    return np.log(logn_mean) - 0.5*np.log(1+logn_mean/logn_var**2)\n",
    "\n",
    "# normal variance, calculated from log-normal mu and sigma\n",
    "def norm_var(logn_mean, logn_var):\n",
    "    return np.log(1+logn_mean/logn_var**2)\n",
    "\n",
    "# log normal mean \n",
    "def lognorm_mean(norm_mean,norm_var):\n",
    "    return np.exp(norm_mean + norm_var/2)\n",
    "\n",
    "# log normal variance\n",
    "def lognorm_var(norm_mean, norm_var):\n",
    "    return np.exp(2*n_mean+n_var) * (np.exp(n_var)-1)"
   ]
  },
  {
   "cell_type": "code",
   "execution_count": null,
   "id": "594f618d-7b3b-499a-a762-5134b6582fd0",
   "metadata": {},
   "outputs": [],
   "source": [
    "# testing for PDF and CDF function\n",
    "\n",
    "x = 0.2\n",
    "mu = 0\n",
    "sigma = 1\n",
    "\n",
    "print(norm_pdf(x,mu,sigma))\n",
    "print(norm.pdf(x,mu,sigma))\n",
    "\n",
    "print(logn_pdf(x,mu,sigma))\n",
    "print(lognorm.pdf(x,sigma,0,np.exp(mu)))\n",
    "\n",
    "print(norm_cdf(x,mu,sigma))\n",
    "print(norm.cdf(x,mu,sigma))\n",
    "\n",
    "print(logn_cdf(x,mu,sigma))\n",
    "print(lognorm.cdf(x,sigma,0,np.exp(mu)))"
   ]
  },
  {
   "cell_type": "markdown",
   "id": "2102a3a2-6cf4-41be-a522-2022328ac0bb",
   "metadata": {},
   "source": [
    "## nomal与log-normal相互转化"
   ]
  },
  {
   "cell_type": "code",
   "execution_count": null,
   "id": "db8d3e2a-f796-4c6b-bcb2-433a93eb9987",
   "metadata": {},
   "outputs": [],
   "source": [
    "# 对于随机变量X，如服从正态分布，对其取指数，exp(X)其服从对数分布\n",
    "\n",
    "f, axs = plt.subplots(2,2,figsize=(8,4))\n",
    "a = np.random.normal(0,0.5,10000)\n",
    "\n",
    "plt.subplot(1, 2, 1)\n",
    "_ = plt.hist(a, bins=100)\n",
    "\n",
    "b = np.exp(a) # 取指数\n",
    "plt.subplot(1, 2, 2)\n",
    "_ = plt.hist(b, bins=100)\n",
    "\n",
    "plt.show()"
   ]
  },
  {
   "cell_type": "code",
   "execution_count": null,
   "id": "8bb6400c-db50-4a4a-a2ec-c936cd2e792d",
   "metadata": {},
   "outputs": [],
   "source": [
    "# 对于随机变量X，如服从对数正态分布，对其取对数，则log(X)其服从对数分布\n",
    "\n",
    "f, axs = plt.subplots(2,2,figsize=(8,4))\n",
    "a = np.random.lognormal(0,0.5,10000)\n",
    "\n",
    "plt.subplot(1, 2, 1)\n",
    "_ = plt.hist(a, bins=100)\n",
    "\n",
    "b = np.log(a) # 取对数\n",
    "plt.subplot(1, 2, 2)\n",
    "_ = plt.hist(b, bins=100)\n",
    "\n",
    "plt.show()"
   ]
  },
  {
   "cell_type": "markdown",
   "id": "e499f059-1fc7-424f-92f4-9b3b1ea6e4c9",
   "metadata": {
    "tags": []
   },
   "source": [
    "## CDF 与 PDF"
   ]
  },
  {
   "cell_type": "code",
   "execution_count": null,
   "id": "8f583cb9-078d-4b3e-93d2-bf3c9219719d",
   "metadata": {},
   "outputs": [],
   "source": [
    "# 两者CDF相同，但PDF不同相同相差系数1/x\n",
    "\n",
    "x = 0.1\n",
    "mu = 0\n",
    "sigma = 1\n",
    "\n",
    "# print(norm.pdf(np.log(x),mu,sigma))\n",
    "# print(lognorm.pdf(x,sigma,mu,np.exp(mu)))\n",
    "print(1/x*norm_pdf(np.log(x),mu,sigma))\n",
    "print(logn_pdf(x,mu,sigma))\n",
    "\n",
    "# print(norm.cdf(np.log(x),mu,sigma))\n",
    "# print(lognorm.cdf(x,sigma,mu,np.exp(mu)))\n",
    "print(norm_cdf(np.log(x),mu,sigma))\n",
    "print(logn_cdf(x,mu,sigma))"
   ]
  },
  {
   "cell_type": "code",
   "execution_count": null,
   "id": "c3874f8c-9378-40e3-bd25-e1dd5e18af4c",
   "metadata": {},
   "outputs": [],
   "source": [
    "# 两者CDF相同，但PDF相同\n",
    "\n",
    "x = 0.1\n",
    "mu = 0\n",
    "sigma = 1\n",
    "\n",
    "print(norm.cdf(x,mu,sigma))\n",
    "print(lognorm.cdf(np.exp(x),sigma,mu,np.exp(mu)))\n",
    "\n",
    "print(norm.pdf(x,mu,sigma))\n",
    "print(lognorm.pdf(np.exp(x),sigma,mu,np.exp(mu)))"
   ]
  },
  {
   "cell_type": "code",
   "execution_count": null,
   "id": "8f5f2b4d-b57c-477b-adce-ac43e66af943",
   "metadata": {},
   "outputs": [],
   "source": [
    "# 两者CDF相同，但PDF相同\n",
    "\n",
    "x = 0.2\n",
    "mu = 0\n",
    "sigma = 1\n",
    "\n",
    "print(norm.cdf(np.log(x),mu,sigma))\n",
    "print(lognorm.cdf(x,sigma,mu,np.exp(mu)))\n",
    "\n",
    "print(norm.pdf(np.log(x),mu,sigma))\n",
    "print(lognorm.pdf(x,sigma,mu,np.exp(mu)))"
   ]
  },
  {
   "cell_type": "code",
   "execution_count": null,
   "id": "f825ad8e-1ecb-4217-8f3d-72dffb49d6c2",
   "metadata": {},
   "outputs": [],
   "source": [
    "mu = 0\n",
    "sigma = 1\n",
    "var = sigma^2\n",
    "\n",
    "f, axs = plt.subplots(2,2,figsize=(8,4))\n",
    "x = np.linspace(mu - 3*sigma, mu + 3*sigma, 100)\n",
    "\n",
    "plt.subplot(1, 2, 1)\n",
    "plt.plot(x, lognorm_pdf(x,mu,sigma), color='blue')\n",
    "\n",
    "# x = np.linspace(mu - 3*sigma, mu + 3*sigma, 100)\n",
    "plt.subplot(1, 2, 2)\n",
    "plt.plot(x, norm_pdf(x,mu,sigma), color='red')\n",
    "\n",
    "plt.show()"
   ]
  },
  {
   "cell_type": "code",
   "execution_count": null,
   "id": "195aa2cf-d5a9-4d5a-b3e1-b5f6b5624285",
   "metadata": {},
   "outputs": [],
   "source": [
    "mu = 0\n",
    "sigma = 1\n",
    "var = sigma**2\n",
    "\n",
    "f, axs = plt.subplots(2,2,figsize=(8,4))\n",
    "x = np.linspace(0.01, mu + 3*sigma, 100)\n",
    "\n",
    "plt.subplot(1, 2, 1)\n",
    "plt.plot(x, lognorm_pdf(x,mu,sigma), color='blue')\n",
    "\n",
    "# x = np.linspace(mu - 3*sigma, mu + 3*sigma, 100)\n",
    "plt.subplot(1, 2, 2)\n",
    "plt.plot(x, lognorm.pdf(x,sigma,mu,np.exp(mu)), color='red')\n",
    "\n",
    "plt.show()"
   ]
  },
  {
   "cell_type": "code",
   "execution_count": null,
   "id": "7bc801a7-32c8-469c-a304-2a385180fae4",
   "metadata": {},
   "outputs": [],
   "source": []
  },
  {
   "cell_type": "markdown",
   "id": "eb648f7e-0c35-4a5f-bdb6-f3582d09bca6",
   "metadata": {},
   "source": [
    "## 正态与对数正态的均值与方差"
   ]
  },
  {
   "cell_type": "code",
   "execution_count": null,
   "id": "cc092443-52ff-41c5-96e5-a957be188f46",
   "metadata": {},
   "outputs": [],
   "source": [
    "a = np.random.normal(0,1,1000000)"
   ]
  },
  {
   "cell_type": "code",
   "execution_count": null,
   "id": "ce46eb4e-9df4-436e-8a02-96e7aa61c2f0",
   "metadata": {},
   "outputs": [],
   "source": [
    "_ = plt.hist(a, bins=1000)\n",
    "\n",
    "n_mean = np.mean(a)\n",
    "n_var = np.var(a)\n",
    "\n",
    "print(n_mean,n_var)"
   ]
  },
  {
   "cell_type": "code",
   "execution_count": null,
   "id": "c8c700a6-6d1a-40a8-8947-ac2921afa432",
   "metadata": {},
   "outputs": [],
   "source": [
    "b = np.exp(a)\n",
    "_ = plt.hist(b, bins=100)\n",
    "\n",
    "l_mean = np.mean(b)\n",
    "l_var = np.var(b)\n",
    "\n",
    "print(l_mean, l_var)"
   ]
  },
  {
   "cell_type": "code",
   "execution_count": null,
   "id": "ca06976a-b5b3-4266-be1f-846a9c2e1ea8",
   "metadata": {},
   "outputs": [],
   "source": [
    "mu = 0\n",
    "variance = 1\n",
    "sigma = np.sqrt(variance)\n",
    "x = np.linspace(mu - 3*sigma, mu + 3*sigma, 100)\n",
    "plt.plot(x, stats.norm.pdf(x, mu, sigma), color='red')\n",
    "plt.show()"
   ]
  },
  {
   "cell_type": "code",
   "execution_count": null,
   "id": "80548af5-7fba-42ad-9f2e-3365556ba208",
   "metadata": {},
   "outputs": [],
   "source": [
    "mu = 0 # mu is set at 0\n",
    "variance = 1\n",
    "sigma = np.sqrt(variance)\n",
    "x = np.linspace(0.01, mu + 3*sigma, 100)\n",
    "plt.plot(x, stats.lognorm.pdf(x, sigma), color='red')\n",
    "plt.show()"
   ]
  }
 ],
 "metadata": {
  "kernelspec": {
   "display_name": "Python 3 (ipykernel)",
   "language": "python",
   "name": "python3"
  },
  "language_info": {
   "codemirror_mode": {
    "name": "ipython",
    "version": 3
   },
   "file_extension": ".py",
   "mimetype": "text/x-python",
   "name": "python",
   "nbconvert_exporter": "python",
   "pygments_lexer": "ipython3",
   "version": "3.8.11"
  }
 },
 "nbformat": 4,
 "nbformat_minor": 5
}

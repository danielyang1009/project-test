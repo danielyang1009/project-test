{
 "cells": [
  {
   "cell_type": "code",
   "execution_count": null,
   "id": "648acba8-edbb-499b-a8fa-667c4af0f2b2",
   "metadata": {},
   "outputs": [],
   "source": [
    "import numpy as np\n",
    "import matplotlib.pyplot as plt\n",
    "import bqrt as bq"
   ]
  },
  {
   "cell_type": "code",
   "execution_count": null,
   "id": "cd06d092-6fa7-4a7a-be3f-4249c3d0f9e5",
   "metadata": {},
   "outputs": [],
   "source": [
    "f, axs = plt.subplots(figsize=(8,4))\n",
    "x = np.linspace(40, 60, 100)\n",
    "\n",
    "plt.plot(x, bq.opt.bsm_price(x,50,0.05,30/252,0.2,'C'), color='red')\n",
    "\n",
    "plt.show()"
   ]
  }
 ],
 "metadata": {
  "kernelspec": {
   "display_name": "Python 3 (ipykernel)",
   "language": "python",
   "name": "python3"
  },
  "language_info": {
   "codemirror_mode": {
    "name": "ipython",
    "version": 3
   },
   "file_extension": ".py",
   "mimetype": "text/x-python",
   "name": "python",
   "nbconvert_exporter": "python",
   "pygments_lexer": "ipython3",
   "version": "3.8.11"
  }
 },
 "nbformat": 4,
 "nbformat_minor": 5
}

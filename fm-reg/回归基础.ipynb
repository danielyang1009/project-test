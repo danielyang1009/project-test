{
 "cells": [
  {
   "cell_type": "code",
   "execution_count": 1,
   "id": "11599871",
   "metadata": {},
   "outputs": [],
   "source": [
    "from finance_byu.fama_macbeth import fama_macbeth, fm_summary\n",
    "import statsmodels.api as sm\n",
    "import pandas as pd\n",
    "import numpy as np"
   ]
  },
  {
   "cell_type": "code",
   "execution_count": 2,
   "id": "17ea3ce5",
   "metadata": {},
   "outputs": [
    {
     "data": {
      "text/html": [
       "<div>\n",
       "<style scoped>\n",
       "    .dataframe tbody tr th:only-of-type {\n",
       "        vertical-align: middle;\n",
       "    }\n",
       "\n",
       "    .dataframe tbody tr th {\n",
       "        vertical-align: top;\n",
       "    }\n",
       "\n",
       "    .dataframe thead th {\n",
       "        text-align: right;\n",
       "    }\n",
       "</style>\n",
       "<table border=\"1\" class=\"dataframe\">\n",
       "  <thead>\n",
       "    <tr style=\"text-align: right;\">\n",
       "      <th></th>\n",
       "      <th>month</th>\n",
       "      <th>SL</th>\n",
       "      <th>SM</th>\n",
       "      <th>SH</th>\n",
       "      <th>BL</th>\n",
       "      <th>BM</th>\n",
       "      <th>BH</th>\n",
       "      <th>mkt-rf</th>\n",
       "      <th>smb</th>\n",
       "      <th>hml</th>\n",
       "    </tr>\n",
       "  </thead>\n",
       "  <tbody>\n",
       "    <tr>\n",
       "      <th>0</th>\n",
       "      <td>202201</td>\n",
       "      <td>-13.3312</td>\n",
       "      <td>-9.0569</td>\n",
       "      <td>-1.0018</td>\n",
       "      <td>-7.9554</td>\n",
       "      <td>-2.8507</td>\n",
       "      <td>5.2226</td>\n",
       "      <td>-6.25</td>\n",
       "      <td>-5.94</td>\n",
       "      <td>12.75</td>\n",
       "    </tr>\n",
       "    <tr>\n",
       "      <th>1</th>\n",
       "      <td>202202</td>\n",
       "      <td>0.0517</td>\n",
       "      <td>1.2208</td>\n",
       "      <td>2.2370</td>\n",
       "      <td>-3.5601</td>\n",
       "      <td>0.0278</td>\n",
       "      <td>0.3395</td>\n",
       "      <td>-2.29</td>\n",
       "      <td>2.23</td>\n",
       "      <td>3.04</td>\n",
       "    </tr>\n",
       "    <tr>\n",
       "      <th>2</th>\n",
       "      <td>202203</td>\n",
       "      <td>1.7806</td>\n",
       "      <td>1.0372</td>\n",
       "      <td>0.5629</td>\n",
       "      <td>4.3278</td>\n",
       "      <td>1.9104</td>\n",
       "      <td>1.9377</td>\n",
       "      <td>3.05</td>\n",
       "      <td>-1.60</td>\n",
       "      <td>-1.80</td>\n",
       "    </tr>\n",
       "    <tr>\n",
       "      <th>3</th>\n",
       "      <td>202204</td>\n",
       "      <td>-13.5805</td>\n",
       "      <td>-8.5466</td>\n",
       "      <td>-5.5740</td>\n",
       "      <td>-10.5954</td>\n",
       "      <td>-6.6579</td>\n",
       "      <td>-6.2179</td>\n",
       "      <td>-9.46</td>\n",
       "      <td>-1.41</td>\n",
       "      <td>6.19</td>\n",
       "    </tr>\n",
       "    <tr>\n",
       "      <th>4</th>\n",
       "      <td>202205</td>\n",
       "      <td>-4.4206</td>\n",
       "      <td>1.6393</td>\n",
       "      <td>4.1352</td>\n",
       "      <td>-2.6261</td>\n",
       "      <td>3.8821</td>\n",
       "      <td>5.6393</td>\n",
       "      <td>-0.34</td>\n",
       "      <td>-1.85</td>\n",
       "      <td>8.41</td>\n",
       "    </tr>\n",
       "    <tr>\n",
       "      <th>5</th>\n",
       "      <td>202206</td>\n",
       "      <td>-4.3163</td>\n",
       "      <td>-6.6654</td>\n",
       "      <td>-11.2053</td>\n",
       "      <td>-7.2567</td>\n",
       "      <td>-8.9137</td>\n",
       "      <td>-12.2993</td>\n",
       "      <td>-8.43</td>\n",
       "      <td>2.09</td>\n",
       "      <td>-5.97</td>\n",
       "    </tr>\n",
       "    <tr>\n",
       "      <th>6</th>\n",
       "      <td>202207</td>\n",
       "      <td>13.4122</td>\n",
       "      <td>10.8013</td>\n",
       "      <td>8.6857</td>\n",
       "      <td>11.4381</td>\n",
       "      <td>5.1174</td>\n",
       "      <td>7.9978</td>\n",
       "      <td>9.56</td>\n",
       "      <td>2.78</td>\n",
       "      <td>-4.08</td>\n",
       "    </tr>\n",
       "  </tbody>\n",
       "</table>\n",
       "</div>"
      ],
      "text/plain": [
       "    month       SL       SM       SH       BL      BM       BH  mkt-rf   smb  \\\n",
       "0  202201 -13.3312  -9.0569  -1.0018  -7.9554 -2.8507   5.2226   -6.25 -5.94   \n",
       "1  202202   0.0517   1.2208   2.2370  -3.5601  0.0278   0.3395   -2.29  2.23   \n",
       "2  202203   1.7806   1.0372   0.5629   4.3278  1.9104   1.9377    3.05 -1.60   \n",
       "3  202204 -13.5805  -8.5466  -5.5740 -10.5954 -6.6579  -6.2179   -9.46 -1.41   \n",
       "4  202205  -4.4206   1.6393   4.1352  -2.6261  3.8821   5.6393   -0.34 -1.85   \n",
       "5  202206  -4.3163  -6.6654 -11.2053  -7.2567 -8.9137 -12.2993   -8.43  2.09   \n",
       "6  202207  13.4122  10.8013   8.6857  11.4381  5.1174   7.9978    9.56  2.78   \n",
       "\n",
       "     hml  \n",
       "0  12.75  \n",
       "1   3.04  \n",
       "2  -1.80  \n",
       "3   6.19  \n",
       "4   8.41  \n",
       "5  -5.97  \n",
       "6  -4.08  "
      ]
     },
     "execution_count": 2,
     "metadata": {},
     "output_type": "execute_result"
    }
   ],
   "source": [
    "data = pd.read_csv('ff_data.csv')\n",
    "data['month'] = data['month'].astype(str)\n",
    "data"
   ]
  },
  {
   "cell_type": "code",
   "execution_count": 3,
   "id": "d05bf9f5",
   "metadata": {},
   "outputs": [],
   "source": [
    "unstack = data.drop(columns=['mkt-rf','smb','hml'])\n",
    "unstack = pd.DataFrame(unstack.set_index('month').unstack()).reset_index()\n",
    "unstack.columns = ['port','month','ret']"
   ]
  },
  {
   "cell_type": "code",
   "execution_count": 40,
   "id": "473dbaed",
   "metadata": {},
   "outputs": [
    {
     "data": {
      "text/html": [
       "<div>\n",
       "<style scoped>\n",
       "    .dataframe tbody tr th:only-of-type {\n",
       "        vertical-align: middle;\n",
       "    }\n",
       "\n",
       "    .dataframe tbody tr th {\n",
       "        vertical-align: top;\n",
       "    }\n",
       "\n",
       "    .dataframe thead th {\n",
       "        text-align: right;\n",
       "    }\n",
       "</style>\n",
       "<table border=\"1\" class=\"dataframe\">\n",
       "  <thead>\n",
       "    <tr style=\"text-align: right;\">\n",
       "      <th></th>\n",
       "      <th>port</th>\n",
       "      <th>month</th>\n",
       "      <th>ret</th>\n",
       "      <th>mkt-rf</th>\n",
       "      <th>smb</th>\n",
       "      <th>hml</th>\n",
       "    </tr>\n",
       "  </thead>\n",
       "  <tbody>\n",
       "    <tr>\n",
       "      <th>0</th>\n",
       "      <td>SL</td>\n",
       "      <td>202201</td>\n",
       "      <td>-13.3312</td>\n",
       "      <td>-6.25</td>\n",
       "      <td>-5.94</td>\n",
       "      <td>12.75</td>\n",
       "    </tr>\n",
       "    <tr>\n",
       "      <th>1</th>\n",
       "      <td>SL</td>\n",
       "      <td>202202</td>\n",
       "      <td>0.0517</td>\n",
       "      <td>-2.29</td>\n",
       "      <td>2.23</td>\n",
       "      <td>3.04</td>\n",
       "    </tr>\n",
       "    <tr>\n",
       "      <th>2</th>\n",
       "      <td>SL</td>\n",
       "      <td>202203</td>\n",
       "      <td>1.7806</td>\n",
       "      <td>3.05</td>\n",
       "      <td>-1.60</td>\n",
       "      <td>-1.80</td>\n",
       "    </tr>\n",
       "    <tr>\n",
       "      <th>3</th>\n",
       "      <td>SL</td>\n",
       "      <td>202204</td>\n",
       "      <td>-13.5805</td>\n",
       "      <td>-9.46</td>\n",
       "      <td>-1.41</td>\n",
       "      <td>6.19</td>\n",
       "    </tr>\n",
       "    <tr>\n",
       "      <th>4</th>\n",
       "      <td>SL</td>\n",
       "      <td>202205</td>\n",
       "      <td>-4.4206</td>\n",
       "      <td>-0.34</td>\n",
       "      <td>-1.85</td>\n",
       "      <td>8.41</td>\n",
       "    </tr>\n",
       "    <tr>\n",
       "      <th>5</th>\n",
       "      <td>SL</td>\n",
       "      <td>202206</td>\n",
       "      <td>-4.3163</td>\n",
       "      <td>-8.43</td>\n",
       "      <td>2.09</td>\n",
       "      <td>-5.97</td>\n",
       "    </tr>\n",
       "    <tr>\n",
       "      <th>6</th>\n",
       "      <td>SL</td>\n",
       "      <td>202207</td>\n",
       "      <td>13.4122</td>\n",
       "      <td>9.56</td>\n",
       "      <td>2.78</td>\n",
       "      <td>-4.08</td>\n",
       "    </tr>\n",
       "    <tr>\n",
       "      <th>7</th>\n",
       "      <td>SM</td>\n",
       "      <td>202201</td>\n",
       "      <td>-9.0569</td>\n",
       "      <td>-6.25</td>\n",
       "      <td>-5.94</td>\n",
       "      <td>12.75</td>\n",
       "    </tr>\n",
       "    <tr>\n",
       "      <th>8</th>\n",
       "      <td>SM</td>\n",
       "      <td>202202</td>\n",
       "      <td>1.2208</td>\n",
       "      <td>-2.29</td>\n",
       "      <td>2.23</td>\n",
       "      <td>3.04</td>\n",
       "    </tr>\n",
       "    <tr>\n",
       "      <th>9</th>\n",
       "      <td>SM</td>\n",
       "      <td>202203</td>\n",
       "      <td>1.0372</td>\n",
       "      <td>3.05</td>\n",
       "      <td>-1.60</td>\n",
       "      <td>-1.80</td>\n",
       "    </tr>\n",
       "    <tr>\n",
       "      <th>10</th>\n",
       "      <td>SM</td>\n",
       "      <td>202204</td>\n",
       "      <td>-8.5466</td>\n",
       "      <td>-9.46</td>\n",
       "      <td>-1.41</td>\n",
       "      <td>6.19</td>\n",
       "    </tr>\n",
       "    <tr>\n",
       "      <th>11</th>\n",
       "      <td>SM</td>\n",
       "      <td>202205</td>\n",
       "      <td>1.6393</td>\n",
       "      <td>-0.34</td>\n",
       "      <td>-1.85</td>\n",
       "      <td>8.41</td>\n",
       "    </tr>\n",
       "    <tr>\n",
       "      <th>12</th>\n",
       "      <td>SM</td>\n",
       "      <td>202206</td>\n",
       "      <td>-6.6654</td>\n",
       "      <td>-8.43</td>\n",
       "      <td>2.09</td>\n",
       "      <td>-5.97</td>\n",
       "    </tr>\n",
       "    <tr>\n",
       "      <th>13</th>\n",
       "      <td>SM</td>\n",
       "      <td>202207</td>\n",
       "      <td>10.8013</td>\n",
       "      <td>9.56</td>\n",
       "      <td>2.78</td>\n",
       "      <td>-4.08</td>\n",
       "    </tr>\n",
       "    <tr>\n",
       "      <th>14</th>\n",
       "      <td>SH</td>\n",
       "      <td>202201</td>\n",
       "      <td>-1.0018</td>\n",
       "      <td>-6.25</td>\n",
       "      <td>-5.94</td>\n",
       "      <td>12.75</td>\n",
       "    </tr>\n",
       "    <tr>\n",
       "      <th>15</th>\n",
       "      <td>SH</td>\n",
       "      <td>202202</td>\n",
       "      <td>2.2370</td>\n",
       "      <td>-2.29</td>\n",
       "      <td>2.23</td>\n",
       "      <td>3.04</td>\n",
       "    </tr>\n",
       "    <tr>\n",
       "      <th>16</th>\n",
       "      <td>SH</td>\n",
       "      <td>202203</td>\n",
       "      <td>0.5629</td>\n",
       "      <td>3.05</td>\n",
       "      <td>-1.60</td>\n",
       "      <td>-1.80</td>\n",
       "    </tr>\n",
       "    <tr>\n",
       "      <th>17</th>\n",
       "      <td>SH</td>\n",
       "      <td>202204</td>\n",
       "      <td>-5.5740</td>\n",
       "      <td>-9.46</td>\n",
       "      <td>-1.41</td>\n",
       "      <td>6.19</td>\n",
       "    </tr>\n",
       "    <tr>\n",
       "      <th>18</th>\n",
       "      <td>SH</td>\n",
       "      <td>202205</td>\n",
       "      <td>4.1352</td>\n",
       "      <td>-0.34</td>\n",
       "      <td>-1.85</td>\n",
       "      <td>8.41</td>\n",
       "    </tr>\n",
       "    <tr>\n",
       "      <th>19</th>\n",
       "      <td>SH</td>\n",
       "      <td>202206</td>\n",
       "      <td>-11.2053</td>\n",
       "      <td>-8.43</td>\n",
       "      <td>2.09</td>\n",
       "      <td>-5.97</td>\n",
       "    </tr>\n",
       "    <tr>\n",
       "      <th>20</th>\n",
       "      <td>SH</td>\n",
       "      <td>202207</td>\n",
       "      <td>8.6857</td>\n",
       "      <td>9.56</td>\n",
       "      <td>2.78</td>\n",
       "      <td>-4.08</td>\n",
       "    </tr>\n",
       "    <tr>\n",
       "      <th>21</th>\n",
       "      <td>BL</td>\n",
       "      <td>202201</td>\n",
       "      <td>-7.9554</td>\n",
       "      <td>-6.25</td>\n",
       "      <td>-5.94</td>\n",
       "      <td>12.75</td>\n",
       "    </tr>\n",
       "    <tr>\n",
       "      <th>22</th>\n",
       "      <td>BL</td>\n",
       "      <td>202202</td>\n",
       "      <td>-3.5601</td>\n",
       "      <td>-2.29</td>\n",
       "      <td>2.23</td>\n",
       "      <td>3.04</td>\n",
       "    </tr>\n",
       "    <tr>\n",
       "      <th>23</th>\n",
       "      <td>BL</td>\n",
       "      <td>202203</td>\n",
       "      <td>4.3278</td>\n",
       "      <td>3.05</td>\n",
       "      <td>-1.60</td>\n",
       "      <td>-1.80</td>\n",
       "    </tr>\n",
       "    <tr>\n",
       "      <th>24</th>\n",
       "      <td>BL</td>\n",
       "      <td>202204</td>\n",
       "      <td>-10.5954</td>\n",
       "      <td>-9.46</td>\n",
       "      <td>-1.41</td>\n",
       "      <td>6.19</td>\n",
       "    </tr>\n",
       "    <tr>\n",
       "      <th>25</th>\n",
       "      <td>BL</td>\n",
       "      <td>202205</td>\n",
       "      <td>-2.6261</td>\n",
       "      <td>-0.34</td>\n",
       "      <td>-1.85</td>\n",
       "      <td>8.41</td>\n",
       "    </tr>\n",
       "    <tr>\n",
       "      <th>26</th>\n",
       "      <td>BL</td>\n",
       "      <td>202206</td>\n",
       "      <td>-7.2567</td>\n",
       "      <td>-8.43</td>\n",
       "      <td>2.09</td>\n",
       "      <td>-5.97</td>\n",
       "    </tr>\n",
       "    <tr>\n",
       "      <th>27</th>\n",
       "      <td>BL</td>\n",
       "      <td>202207</td>\n",
       "      <td>11.4381</td>\n",
       "      <td>9.56</td>\n",
       "      <td>2.78</td>\n",
       "      <td>-4.08</td>\n",
       "    </tr>\n",
       "    <tr>\n",
       "      <th>28</th>\n",
       "      <td>BM</td>\n",
       "      <td>202201</td>\n",
       "      <td>-2.8507</td>\n",
       "      <td>-6.25</td>\n",
       "      <td>-5.94</td>\n",
       "      <td>12.75</td>\n",
       "    </tr>\n",
       "    <tr>\n",
       "      <th>29</th>\n",
       "      <td>BM</td>\n",
       "      <td>202202</td>\n",
       "      <td>0.0278</td>\n",
       "      <td>-2.29</td>\n",
       "      <td>2.23</td>\n",
       "      <td>3.04</td>\n",
       "    </tr>\n",
       "    <tr>\n",
       "      <th>30</th>\n",
       "      <td>BM</td>\n",
       "      <td>202203</td>\n",
       "      <td>1.9104</td>\n",
       "      <td>3.05</td>\n",
       "      <td>-1.60</td>\n",
       "      <td>-1.80</td>\n",
       "    </tr>\n",
       "    <tr>\n",
       "      <th>31</th>\n",
       "      <td>BM</td>\n",
       "      <td>202204</td>\n",
       "      <td>-6.6579</td>\n",
       "      <td>-9.46</td>\n",
       "      <td>-1.41</td>\n",
       "      <td>6.19</td>\n",
       "    </tr>\n",
       "    <tr>\n",
       "      <th>32</th>\n",
       "      <td>BM</td>\n",
       "      <td>202205</td>\n",
       "      <td>3.8821</td>\n",
       "      <td>-0.34</td>\n",
       "      <td>-1.85</td>\n",
       "      <td>8.41</td>\n",
       "    </tr>\n",
       "    <tr>\n",
       "      <th>33</th>\n",
       "      <td>BM</td>\n",
       "      <td>202206</td>\n",
       "      <td>-8.9137</td>\n",
       "      <td>-8.43</td>\n",
       "      <td>2.09</td>\n",
       "      <td>-5.97</td>\n",
       "    </tr>\n",
       "    <tr>\n",
       "      <th>34</th>\n",
       "      <td>BM</td>\n",
       "      <td>202207</td>\n",
       "      <td>5.1174</td>\n",
       "      <td>9.56</td>\n",
       "      <td>2.78</td>\n",
       "      <td>-4.08</td>\n",
       "    </tr>\n",
       "    <tr>\n",
       "      <th>35</th>\n",
       "      <td>BH</td>\n",
       "      <td>202201</td>\n",
       "      <td>5.2226</td>\n",
       "      <td>-6.25</td>\n",
       "      <td>-5.94</td>\n",
       "      <td>12.75</td>\n",
       "    </tr>\n",
       "    <tr>\n",
       "      <th>36</th>\n",
       "      <td>BH</td>\n",
       "      <td>202202</td>\n",
       "      <td>0.3395</td>\n",
       "      <td>-2.29</td>\n",
       "      <td>2.23</td>\n",
       "      <td>3.04</td>\n",
       "    </tr>\n",
       "    <tr>\n",
       "      <th>37</th>\n",
       "      <td>BH</td>\n",
       "      <td>202203</td>\n",
       "      <td>1.9377</td>\n",
       "      <td>3.05</td>\n",
       "      <td>-1.60</td>\n",
       "      <td>-1.80</td>\n",
       "    </tr>\n",
       "    <tr>\n",
       "      <th>38</th>\n",
       "      <td>BH</td>\n",
       "      <td>202204</td>\n",
       "      <td>-6.2179</td>\n",
       "      <td>-9.46</td>\n",
       "      <td>-1.41</td>\n",
       "      <td>6.19</td>\n",
       "    </tr>\n",
       "    <tr>\n",
       "      <th>39</th>\n",
       "      <td>BH</td>\n",
       "      <td>202205</td>\n",
       "      <td>5.6393</td>\n",
       "      <td>-0.34</td>\n",
       "      <td>-1.85</td>\n",
       "      <td>8.41</td>\n",
       "    </tr>\n",
       "    <tr>\n",
       "      <th>40</th>\n",
       "      <td>BH</td>\n",
       "      <td>202206</td>\n",
       "      <td>-12.2993</td>\n",
       "      <td>-8.43</td>\n",
       "      <td>2.09</td>\n",
       "      <td>-5.97</td>\n",
       "    </tr>\n",
       "    <tr>\n",
       "      <th>41</th>\n",
       "      <td>BH</td>\n",
       "      <td>202207</td>\n",
       "      <td>7.9978</td>\n",
       "      <td>9.56</td>\n",
       "      <td>2.78</td>\n",
       "      <td>-4.08</td>\n",
       "    </tr>\n",
       "  </tbody>\n",
       "</table>\n",
       "</div>"
      ],
      "text/plain": [
       "   port   month      ret  mkt-rf   smb    hml\n",
       "0    SL  202201 -13.3312   -6.25 -5.94  12.75\n",
       "1    SL  202202   0.0517   -2.29  2.23   3.04\n",
       "2    SL  202203   1.7806    3.05 -1.60  -1.80\n",
       "3    SL  202204 -13.5805   -9.46 -1.41   6.19\n",
       "4    SL  202205  -4.4206   -0.34 -1.85   8.41\n",
       "5    SL  202206  -4.3163   -8.43  2.09  -5.97\n",
       "6    SL  202207  13.4122    9.56  2.78  -4.08\n",
       "7    SM  202201  -9.0569   -6.25 -5.94  12.75\n",
       "8    SM  202202   1.2208   -2.29  2.23   3.04\n",
       "9    SM  202203   1.0372    3.05 -1.60  -1.80\n",
       "10   SM  202204  -8.5466   -9.46 -1.41   6.19\n",
       "11   SM  202205   1.6393   -0.34 -1.85   8.41\n",
       "12   SM  202206  -6.6654   -8.43  2.09  -5.97\n",
       "13   SM  202207  10.8013    9.56  2.78  -4.08\n",
       "14   SH  202201  -1.0018   -6.25 -5.94  12.75\n",
       "15   SH  202202   2.2370   -2.29  2.23   3.04\n",
       "16   SH  202203   0.5629    3.05 -1.60  -1.80\n",
       "17   SH  202204  -5.5740   -9.46 -1.41   6.19\n",
       "18   SH  202205   4.1352   -0.34 -1.85   8.41\n",
       "19   SH  202206 -11.2053   -8.43  2.09  -5.97\n",
       "20   SH  202207   8.6857    9.56  2.78  -4.08\n",
       "21   BL  202201  -7.9554   -6.25 -5.94  12.75\n",
       "22   BL  202202  -3.5601   -2.29  2.23   3.04\n",
       "23   BL  202203   4.3278    3.05 -1.60  -1.80\n",
       "24   BL  202204 -10.5954   -9.46 -1.41   6.19\n",
       "25   BL  202205  -2.6261   -0.34 -1.85   8.41\n",
       "26   BL  202206  -7.2567   -8.43  2.09  -5.97\n",
       "27   BL  202207  11.4381    9.56  2.78  -4.08\n",
       "28   BM  202201  -2.8507   -6.25 -5.94  12.75\n",
       "29   BM  202202   0.0278   -2.29  2.23   3.04\n",
       "30   BM  202203   1.9104    3.05 -1.60  -1.80\n",
       "31   BM  202204  -6.6579   -9.46 -1.41   6.19\n",
       "32   BM  202205   3.8821   -0.34 -1.85   8.41\n",
       "33   BM  202206  -8.9137   -8.43  2.09  -5.97\n",
       "34   BM  202207   5.1174    9.56  2.78  -4.08\n",
       "35   BH  202201   5.2226   -6.25 -5.94  12.75\n",
       "36   BH  202202   0.3395   -2.29  2.23   3.04\n",
       "37   BH  202203   1.9377    3.05 -1.60  -1.80\n",
       "38   BH  202204  -6.2179   -9.46 -1.41   6.19\n",
       "39   BH  202205   5.6393   -0.34 -1.85   8.41\n",
       "40   BH  202206 -12.2993   -8.43  2.09  -5.97\n",
       "41   BH  202207   7.9978    9.56  2.78  -4.08"
      ]
     },
     "execution_count": 40,
     "metadata": {},
     "output_type": "execute_result"
    }
   ],
   "source": [
    "test = pd.merge(unstack, data[['month','mkt-rf','smb','hml']], how='left', on='month')\n",
    "test"
   ]
  },
  {
   "cell_type": "markdown",
   "id": "af25d1f1",
   "metadata": {},
   "source": [
    "# byu-finance\n"
   ]
  },
  {
   "cell_type": "code",
   "execution_count": 41,
   "id": "3fc2c791",
   "metadata": {},
   "outputs": [
    {
     "data": {
      "text/html": [
       "<div>\n",
       "<style scoped>\n",
       "    .dataframe tbody tr th:only-of-type {\n",
       "        vertical-align: middle;\n",
       "    }\n",
       "\n",
       "    .dataframe tbody tr th {\n",
       "        vertical-align: top;\n",
       "    }\n",
       "\n",
       "    .dataframe thead th {\n",
       "        text-align: right;\n",
       "    }\n",
       "</style>\n",
       "<table border=\"1\" class=\"dataframe\">\n",
       "  <thead>\n",
       "    <tr style=\"text-align: right;\">\n",
       "      <th></th>\n",
       "      <th>mean</th>\n",
       "      <th>std_error</th>\n",
       "      <th>tstat</th>\n",
       "    </tr>\n",
       "  </thead>\n",
       "  <tbody>\n",
       "    <tr>\n",
       "      <th>intercept</th>\n",
       "      <td>0.008804</td>\n",
       "      <td>0.027242</td>\n",
       "      <td>0.323186</td>\n",
       "    </tr>\n",
       "    <tr>\n",
       "      <th>mkt-rf</th>\n",
       "      <td>0.359346</td>\n",
       "      <td>0.123803</td>\n",
       "      <td>2.902573</td>\n",
       "    </tr>\n",
       "    <tr>\n",
       "      <th>smb</th>\n",
       "      <td>0.009087</td>\n",
       "      <td>0.057107</td>\n",
       "      <td>0.159119</td>\n",
       "    </tr>\n",
       "    <tr>\n",
       "      <th>hml</th>\n",
       "      <td>-0.085871</td>\n",
       "      <td>0.115726</td>\n",
       "      <td>-0.742019</td>\n",
       "    </tr>\n",
       "  </tbody>\n",
       "</table>\n",
       "</div>"
      ],
      "text/plain": [
       "               mean  std_error     tstat\n",
       "intercept  0.008804   0.027242  0.323186\n",
       "mkt-rf     0.359346   0.123803  2.902573\n",
       "smb        0.009087   0.057107  0.159119\n",
       "hml       -0.085871   0.115726 -0.742019"
      ]
     },
     "execution_count": 41,
     "metadata": {},
     "output_type": "execute_result"
    }
   ],
   "source": [
    "result = fama_macbeth(test,'month','ret',['mkt-rf','smb','hml'],intercept=True)\n",
    "fm_summary(result)"
   ]
  },
  {
   "cell_type": "code",
   "execution_count": 38,
   "id": "025b4eba",
   "metadata": {},
   "outputs": [
    {
     "data": {
      "text/html": [
       "<div>\n",
       "<style scoped>\n",
       "    .dataframe tbody tr th:only-of-type {\n",
       "        vertical-align: middle;\n",
       "    }\n",
       "\n",
       "    .dataframe tbody tr th {\n",
       "        vertical-align: top;\n",
       "    }\n",
       "\n",
       "    .dataframe thead th {\n",
       "        text-align: right;\n",
       "    }\n",
       "</style>\n",
       "<table border=\"1\" class=\"dataframe\">\n",
       "  <thead>\n",
       "    <tr style=\"text-align: right;\">\n",
       "      <th></th>\n",
       "      <th>intercept</th>\n",
       "      <th>mkt-rf</th>\n",
       "      <th>smb</th>\n",
       "      <th>hml</th>\n",
       "    </tr>\n",
       "    <tr>\n",
       "      <th>month</th>\n",
       "      <th></th>\n",
       "      <th></th>\n",
       "      <th></th>\n",
       "      <th></th>\n",
       "    </tr>\n",
       "  </thead>\n",
       "  <tbody>\n",
       "    <tr>\n",
       "      <th>202201</th>\n",
       "      <td>-0.020297</td>\n",
       "      <td>0.126858</td>\n",
       "      <td>0.120566</td>\n",
       "      <td>-0.258790</td>\n",
       "    </tr>\n",
       "    <tr>\n",
       "      <th>202202</th>\n",
       "      <td>0.002580</td>\n",
       "      <td>-0.005908</td>\n",
       "      <td>0.005753</td>\n",
       "      <td>0.007843</td>\n",
       "    </tr>\n",
       "    <tr>\n",
       "      <th>202203</th>\n",
       "      <td>0.119615</td>\n",
       "      <td>0.364826</td>\n",
       "      <td>-0.191384</td>\n",
       "      <td>-0.215307</td>\n",
       "    </tr>\n",
       "    <tr>\n",
       "      <th>202204</th>\n",
       "      <td>-0.065206</td>\n",
       "      <td>0.616852</td>\n",
       "      <td>0.091941</td>\n",
       "      <td>-0.403627</td>\n",
       "    </tr>\n",
       "    <tr>\n",
       "      <th>202205</th>\n",
       "      <td>0.018267</td>\n",
       "      <td>-0.006211</td>\n",
       "      <td>-0.033793</td>\n",
       "      <td>0.153623</td>\n",
       "    </tr>\n",
       "    <tr>\n",
       "      <th>202206</th>\n",
       "      <td>-0.075332</td>\n",
       "      <td>0.635051</td>\n",
       "      <td>-0.157444</td>\n",
       "      <td>0.449734</td>\n",
       "    </tr>\n",
       "    <tr>\n",
       "      <th>202207</th>\n",
       "      <td>0.082003</td>\n",
       "      <td>0.783953</td>\n",
       "      <td>0.227970</td>\n",
       "      <td>-0.334574</td>\n",
       "    </tr>\n",
       "  </tbody>\n",
       "</table>\n",
       "</div>"
      ],
      "text/plain": [
       "        intercept    mkt-rf       smb       hml\n",
       "month                                          \n",
       "202201  -0.020297  0.126858  0.120566 -0.258790\n",
       "202202   0.002580 -0.005908  0.005753  0.007843\n",
       "202203   0.119615  0.364826 -0.191384 -0.215307\n",
       "202204  -0.065206  0.616852  0.091941 -0.403627\n",
       "202205   0.018267 -0.006211 -0.033793  0.153623\n",
       "202206  -0.075332  0.635051 -0.157444  0.449734\n",
       "202207   0.082003  0.783953  0.227970 -0.334574"
      ]
     },
     "execution_count": 38,
     "metadata": {},
     "output_type": "execute_result"
    }
   ],
   "source": [
    "result"
   ]
  },
  {
   "cell_type": "markdown",
   "id": "a938ef1a",
   "metadata": {},
   "source": [
    "# np.linalg.lstsq"
   ]
  },
  {
   "cell_type": "code",
   "execution_count": 9,
   "id": "9ac627a9",
   "metadata": {},
   "outputs": [],
   "source": [
    "X = np.array([np.ones(9), np.arange(0, 9)]).T\n",
    "y = np.array([19, 20, 20.5, 21.5, 22, 23, 23, 25.5, 24])"
   ]
  },
  {
   "cell_type": "code",
   "execution_count": 10,
   "id": "6232aa04",
   "metadata": {},
   "outputs": [
    {
     "data": {
      "text/plain": [
       "array([[1., 0.],\n",
       "       [1., 1.],\n",
       "       [1., 2.],\n",
       "       [1., 3.],\n",
       "       [1., 4.],\n",
       "       [1., 5.],\n",
       "       [1., 6.],\n",
       "       [1., 7.],\n",
       "       [1., 8.]])"
      ]
     },
     "execution_count": 10,
     "metadata": {},
     "output_type": "execute_result"
    }
   ],
   "source": [
    "# 9 row, 2 column\n",
    "X"
   ]
  },
  {
   "cell_type": "code",
   "execution_count": 11,
   "id": "cb0e2e58",
   "metadata": {},
   "outputs": [
    {
     "data": {
      "text/plain": [
       "array([19. , 20. , 20.5, 21.5, 22. , 23. , 23. , 25.5, 24. ])"
      ]
     },
     "execution_count": 11,
     "metadata": {},
     "output_type": "execute_result"
    }
   ],
   "source": [
    "y # 默认为列向量，显示为行"
   ]
  },
  {
   "cell_type": "code",
   "execution_count": 12,
   "id": "24b85ce2",
   "metadata": {},
   "outputs": [
    {
     "data": {
      "text/plain": [
       "(9,)"
      ]
     },
     "execution_count": 12,
     "metadata": {},
     "output_type": "execute_result"
    }
   ],
   "source": [
    "y.shape"
   ]
  },
  {
   "cell_type": "code",
   "execution_count": 13,
   "id": "b838b91f",
   "metadata": {},
   "outputs": [
    {
     "data": {
      "text/plain": [
       "array([19.18888889,  0.71666667])"
      ]
     },
     "execution_count": 13,
     "metadata": {},
     "output_type": "execute_result"
    }
   ],
   "source": [
    "w = np.linalg.lstsq(X, y, rcond=None)[0]\n",
    "w"
   ]
  },
  {
   "cell_type": "markdown",
   "id": "8767d46e",
   "metadata": {},
   "source": [
    "# statsmodels"
   ]
  },
  {
   "cell_type": "code",
   "execution_count": 14,
   "id": "575b9032",
   "metadata": {},
   "outputs": [
    {
     "name": "stderr",
     "output_type": "stream",
     "text": [
      "C:\\ProgramData\\Anaconda3\\lib\\site-packages\\scipy\\stats\\stats.py:1541: UserWarning: kurtosistest only valid for n>=20 ... continuing anyway, n=9\n",
      "  warnings.warn(\"kurtosistest only valid for n>=20 ... continuing \"\n"
     ]
    },
    {
     "data": {
      "text/html": [
       "<table class=\"simpletable\">\n",
       "<caption>OLS Regression Results</caption>\n",
       "<tr>\n",
       "  <th>Dep. Variable:</th>            <td>y</td>        <th>  R-squared:         </th> <td>   0.914</td>\n",
       "</tr>\n",
       "<tr>\n",
       "  <th>Model:</th>                   <td>OLS</td>       <th>  Adj. R-squared:    </th> <td>   0.902</td>\n",
       "</tr>\n",
       "<tr>\n",
       "  <th>Method:</th>             <td>Least Squares</td>  <th>  F-statistic:       </th> <td>   74.24</td>\n",
       "</tr>\n",
       "<tr>\n",
       "  <th>Date:</th>             <td>Sat, 17 Sep 2022</td> <th>  Prob (F-statistic):</th> <td>5.66e-05</td>\n",
       "</tr>\n",
       "<tr>\n",
       "  <th>Time:</th>                 <td>22:22:57</td>     <th>  Log-Likelihood:    </th> <td> -7.6827</td>\n",
       "</tr>\n",
       "<tr>\n",
       "  <th>No. Observations:</th>      <td>     9</td>      <th>  AIC:               </th> <td>   19.37</td>\n",
       "</tr>\n",
       "<tr>\n",
       "  <th>Df Residuals:</th>          <td>     7</td>      <th>  BIC:               </th> <td>   19.76</td>\n",
       "</tr>\n",
       "<tr>\n",
       "  <th>Df Model:</th>              <td>     1</td>      <th>                     </th>     <td> </td>   \n",
       "</tr>\n",
       "<tr>\n",
       "  <th>Covariance Type:</th>      <td>nonrobust</td>    <th>                     </th>     <td> </td>   \n",
       "</tr>\n",
       "</table>\n",
       "<table class=\"simpletable\">\n",
       "<tr>\n",
       "    <td></td>       <th>coef</th>     <th>std err</th>      <th>t</th>      <th>P>|t|</th>  <th>[0.025</th>    <th>0.975]</th>  \n",
       "</tr>\n",
       "<tr>\n",
       "  <th>const</th> <td>   19.1889</td> <td>    0.396</td> <td>   48.458</td> <td> 0.000</td> <td>   18.253</td> <td>   20.125</td>\n",
       "</tr>\n",
       "<tr>\n",
       "  <th>x1</th>    <td>    0.7167</td> <td>    0.083</td> <td>    8.616</td> <td> 0.000</td> <td>    0.520</td> <td>    0.913</td>\n",
       "</tr>\n",
       "</table>\n",
       "<table class=\"simpletable\">\n",
       "<tr>\n",
       "  <th>Omnibus:</th>       <td> 4.624</td> <th>  Durbin-Watson:     </th> <td>   3.078</td>\n",
       "</tr>\n",
       "<tr>\n",
       "  <th>Prob(Omnibus):</th> <td> 0.099</td> <th>  Jarque-Bera (JB):  </th> <td>   1.154</td>\n",
       "</tr>\n",
       "<tr>\n",
       "  <th>Skew:</th>          <td> 0.773</td> <th>  Prob(JB):          </th> <td>   0.561</td>\n",
       "</tr>\n",
       "<tr>\n",
       "  <th>Kurtosis:</th>      <td> 3.830</td> <th>  Cond. No.          </th> <td>    9.06</td>\n",
       "</tr>\n",
       "</table><br/><br/>Notes:<br/>[1] Standard Errors assume that the covariance matrix of the errors is correctly specified."
      ],
      "text/plain": [
       "<class 'statsmodels.iolib.summary.Summary'>\n",
       "\"\"\"\n",
       "                            OLS Regression Results                            \n",
       "==============================================================================\n",
       "Dep. Variable:                      y   R-squared:                       0.914\n",
       "Model:                            OLS   Adj. R-squared:                  0.902\n",
       "Method:                 Least Squares   F-statistic:                     74.24\n",
       "Date:                Sat, 17 Sep 2022   Prob (F-statistic):           5.66e-05\n",
       "Time:                        22:22:57   Log-Likelihood:                -7.6827\n",
       "No. Observations:                   9   AIC:                             19.37\n",
       "Df Residuals:                       7   BIC:                             19.76\n",
       "Df Model:                           1                                         \n",
       "Covariance Type:            nonrobust                                         \n",
       "==============================================================================\n",
       "                 coef    std err          t      P>|t|      [0.025      0.975]\n",
       "------------------------------------------------------------------------------\n",
       "const         19.1889      0.396     48.458      0.000      18.253      20.125\n",
       "x1             0.7167      0.083      8.616      0.000       0.520       0.913\n",
       "==============================================================================\n",
       "Omnibus:                        4.624   Durbin-Watson:                   3.078\n",
       "Prob(Omnibus):                  0.099   Jarque-Bera (JB):                1.154\n",
       "Skew:                           0.773   Prob(JB):                        0.561\n",
       "Kurtosis:                       3.830   Cond. No.                         9.06\n",
       "==============================================================================\n",
       "\n",
       "Notes:\n",
       "[1] Standard Errors assume that the covariance matrix of the errors is correctly specified.\n",
       "\"\"\""
      ]
     },
     "execution_count": 14,
     "metadata": {},
     "output_type": "execute_result"
    }
   ],
   "source": [
    "res = sm.OLS(y, X).fit()\n",
    "res.summary()"
   ]
  },
  {
   "cell_type": "code",
   "execution_count": 15,
   "id": "209e57b4",
   "metadata": {},
   "outputs": [
    {
     "data": {
      "text/plain": [
       "array([19.18888889,  0.71666667])"
      ]
     },
     "execution_count": 15,
     "metadata": {},
     "output_type": "execute_result"
    }
   ],
   "source": [
    "res.params"
   ]
  },
  {
   "cell_type": "code",
   "execution_count": 16,
   "id": "ed04b91e",
   "metadata": {},
   "outputs": [
    {
     "data": {
      "text/plain": [
       "array([-0.18888889,  0.09444444, -0.12222222,  0.16111111, -0.05555556,\n",
       "        0.22777778, -0.48888889,  1.29444444, -0.92222222])"
      ]
     },
     "execution_count": 16,
     "metadata": {},
     "output_type": "execute_result"
    }
   ],
   "source": [
    "res.resid"
   ]
  },
  {
   "cell_type": "markdown",
   "id": "bd0a2613",
   "metadata": {},
   "source": [
    "# direct compute\n",
    "回归方程\n",
    "$$\n",
    "y = X \\beta + \\varepsilon\n",
    "$$\n",
    "都为列向量\n",
    "$$\n",
    "\\hat{\\beta} = (X^T X)^{-1} X^T y\n",
    "$$"
   ]
  },
  {
   "cell_type": "code",
   "execution_count": 17,
   "id": "d5feeadb",
   "metadata": {},
   "outputs": [],
   "source": [
    "from numpy import dot\n",
    "from numpy.linalg import inv\n",
    "from scipy import stats"
   ]
  },
  {
   "cell_type": "code",
   "execution_count": 18,
   "id": "4f438d8e",
   "metadata": {},
   "outputs": [
    {
     "data": {
      "text/plain": [
       "array([19.18888889,  0.71666667])"
      ]
     },
     "execution_count": 18,
     "metadata": {},
     "output_type": "execute_result"
    }
   ],
   "source": [
    "dot(inv(dot(X.T, X)),dot(X.T,y))"
   ]
  },
  {
   "cell_type": "code",
   "execution_count": 19,
   "id": "7e5144b1",
   "metadata": {},
   "outputs": [
    {
     "data": {
      "text/plain": [
       "array([19.18888889,  0.71666667])"
      ]
     },
     "execution_count": 19,
     "metadata": {},
     "output_type": "execute_result"
    }
   ],
   "source": [
    "dot(dot(inv(dot(X.T, X)),X.T),y)"
   ]
  },
  {
   "cell_type": "code",
   "execution_count": 20,
   "id": "205e0b62",
   "metadata": {},
   "outputs": [
    {
     "data": {
      "text/plain": [
       "array([19.18888889,  0.71666667])"
      ]
     },
     "execution_count": 20,
     "metadata": {},
     "output_type": "execute_result"
    }
   ],
   "source": [
    "np.matmul(np.matmul(inv(np.matmul(X.T,X)),X.T),y)"
   ]
  },
  {
   "cell_type": "code",
   "execution_count": 21,
   "id": "60629e32",
   "metadata": {},
   "outputs": [
    {
     "data": {
      "text/plain": [
       "(2,)"
      ]
     },
     "execution_count": 21,
     "metadata": {},
     "output_type": "execute_result"
    }
   ],
   "source": [
    "# 列向量显示的时候，并不会专门显示为列\n",
    "(inv(X.T @ X) @ X.T @ y).shape"
   ]
  },
  {
   "cell_type": "code",
   "execution_count": 22,
   "id": "cd43451d",
   "metadata": {},
   "outputs": [
    {
     "data": {
      "text/plain": [
       "array([19.18888889,  0.71666667])"
      ]
     },
     "execution_count": 22,
     "metadata": {},
     "output_type": "execute_result"
    }
   ],
   "source": [
    "inv(X.T @ X) @ X.T @ y"
   ]
  },
  {
   "cell_type": "code",
   "execution_count": 23,
   "id": "d80f22ea",
   "metadata": {},
   "outputs": [],
   "source": [
    "beta_hat = inv(X.T @ X) @ X.T @ y"
   ]
  },
  {
   "cell_type": "markdown",
   "id": "64076365",
   "metadata": {},
   "source": [
    " ## se of coefficient 计算"
   ]
  },
  {
   "cell_type": "code",
   "execution_count": 24,
   "id": "a338b3ef",
   "metadata": {},
   "outputs": [
    {
     "data": {
      "text/plain": [
       "array([-0.18888889,  0.09444444, -0.12222222,  0.16111111, -0.05555556,\n",
       "        0.22777778, -0.48888889,  1.29444444, -0.92222222])"
      ]
     },
     "execution_count": 24,
     "metadata": {},
     "output_type": "execute_result"
    }
   ],
   "source": [
    "epsilon = y - X @ beta_hat\n",
    "epsilon"
   ]
  },
  {
   "cell_type": "code",
   "execution_count": 25,
   "id": "4a0baa7f",
   "metadata": {},
   "outputs": [],
   "source": [
    "sse = np.square(epsilon).sum()\n",
    "mse = sse / (9-2) #减去两个dof"
   ]
  },
  {
   "cell_type": "code",
   "execution_count": 26,
   "id": "f22e57fe",
   "metadata": {},
   "outputs": [
    {
     "data": {
      "text/plain": [
       "0.41507936507936505"
      ]
     },
     "execution_count": 26,
     "metadata": {},
     "output_type": "execute_result"
    }
   ],
   "source": [
    "mse"
   ]
  },
  {
   "cell_type": "code",
   "execution_count": 27,
   "id": "84e20b1d",
   "metadata": {},
   "outputs": [
    {
     "data": {
      "text/plain": [
       "0.6442665326395319"
      ]
     },
     "execution_count": 27,
     "metadata": {},
     "output_type": "execute_result"
    }
   ],
   "source": [
    "np.sqrt(mse)"
   ]
  },
  {
   "cell_type": "code",
   "execution_count": 28,
   "id": "35ffba2d",
   "metadata": {},
   "outputs": [
    {
     "data": {
      "text/plain": [
       "0.6442665326395319"
      ]
     },
     "execution_count": 28,
     "metadata": {},
     "output_type": "execute_result"
    }
   ],
   "source": [
    "epsilon.std(ddof=2)"
   ]
  },
  {
   "cell_type": "code",
   "execution_count": 29,
   "id": "73a69f64",
   "metadata": {},
   "outputs": [
    {
     "data": {
      "text/plain": [
       "array([[ 0.37777778, -0.06666667],\n",
       "       [-0.06666667,  0.01666667]])"
      ]
     },
     "execution_count": 29,
     "metadata": {},
     "output_type": "execute_result"
    }
   ],
   "source": [
    "# MSE 即为\\sigma^2\n",
    "inv(X.T @ X)"
   ]
  },
  {
   "cell_type": "code",
   "execution_count": 30,
   "id": "193e11f0",
   "metadata": {},
   "outputs": [
    {
     "data": {
      "text/plain": [
       "0.3959895971657489"
      ]
     },
     "execution_count": 30,
     "metadata": {},
     "output_type": "execute_result"
    }
   ],
   "source": [
    "epsilon.std(ddof=2) * 0.37777778**0.5 "
   ]
  },
  {
   "cell_type": "code",
   "execution_count": 31,
   "id": "bef34ae1",
   "metadata": {
    "scrolled": true
   },
   "outputs": [
    {
     "data": {
      "text/plain": [
       "0.0831744600318349"
      ]
     },
     "execution_count": 31,
     "metadata": {},
     "output_type": "execute_result"
    }
   ],
   "source": [
    "epsilon.std(ddof=2) * 0.01666667**0.5"
   ]
  },
  {
   "cell_type": "code",
   "execution_count": 32,
   "id": "9118f6ef",
   "metadata": {},
   "outputs": [
    {
     "data": {
      "text/plain": [
       "array([[ 0.15680776, -0.02767196],\n",
       "       [-0.02767196,  0.00691799]])"
      ]
     },
     "execution_count": 32,
     "metadata": {},
     "output_type": "execute_result"
    }
   ],
   "source": [
    "mse * inv(X.T @ X)"
   ]
  },
  {
   "cell_type": "code",
   "execution_count": 33,
   "id": "610041f8",
   "metadata": {},
   "outputs": [
    {
     "data": {
      "text/plain": [
       "0.3959895958229206"
      ]
     },
     "execution_count": 33,
     "metadata": {},
     "output_type": "execute_result"
    }
   ],
   "source": [
    "np.sqrt(0.15680776)"
   ]
  },
  {
   "cell_type": "code",
   "execution_count": 34,
   "id": "7c0817c1",
   "metadata": {},
   "outputs": [
    {
     "data": {
      "text/plain": [
       "0.08317445521312418"
      ]
     },
     "execution_count": 34,
     "metadata": {},
     "output_type": "execute_result"
    }
   ],
   "source": [
    "np.sqrt(0.00691799)"
   ]
  },
  {
   "cell_type": "code",
   "execution_count": null,
   "id": "95c217fd",
   "metadata": {},
   "outputs": [],
   "source": []
  },
  {
   "cell_type": "markdown",
   "id": "0b1be13d",
   "metadata": {},
   "source": [
    "# byu code"
   ]
  },
  {
   "cell_type": "code",
   "execution_count": 35,
   "id": "f2322908",
   "metadata": {},
   "outputs": [],
   "source": [
    "def _ols_np(data,vars):\n",
    "    #assert np.linalg.matrix_rank(data[vars[1]])==len(vars[1]), 'Independent variable matrix is not full column rank. Check data carefully.'\n",
    "    gamma,_,_,_ = np.linalg.lstsq(data[vars[1]],data[vars[0]],rcond=None)\n",
    "#     print(data[vars[1]],data[vars[0]])\n",
    "    return pd.Series(gamma.flatten())\n",
    "\n",
    "def fama_macbeth(data,t,yvar,xvar,intercept=True):\n",
    "\n",
    "#     _assertions(data,t,yvar,xvar,intercept)\n",
    "    \n",
    "    if intercept:\n",
    "        data['intercept'] = 1\n",
    "        xvar.insert(0,'intercept')\n",
    "    d = (data.groupby(t).apply(_ols_np,[yvar,xvar]))\n",
    "    d.columns = xvar\n",
    "    return d"
   ]
  }
 ],
 "metadata": {
  "kernelspec": {
   "display_name": "Python 3 (ipykernel)",
   "language": "python",
   "name": "python3"
  },
  "language_info": {
   "codemirror_mode": {
    "name": "ipython",
    "version": 3
   },
   "file_extension": ".py",
   "mimetype": "text/x-python",
   "name": "python",
   "nbconvert_exporter": "python",
   "pygments_lexer": "ipython3",
   "version": "3.8.13"
  },
  "toc": {
   "base_numbering": 1,
   "nav_menu": {},
   "number_sections": true,
   "sideBar": true,
   "skip_h1_title": false,
   "title_cell": "Table of Contents",
   "title_sidebar": "Contents",
   "toc_cell": false,
   "toc_position": {},
   "toc_section_display": true,
   "toc_window_display": false
  },
  "varInspector": {
   "cols": {
    "lenName": 16,
    "lenType": 16,
    "lenVar": 40
   },
   "kernels_config": {
    "python": {
     "delete_cmd_postfix": "",
     "delete_cmd_prefix": "del ",
     "library": "var_list.py",
     "varRefreshCmd": "print(var_dic_list())"
    },
    "r": {
     "delete_cmd_postfix": ") ",
     "delete_cmd_prefix": "rm(",
     "library": "var_list.r",
     "varRefreshCmd": "cat(var_dic_list()) "
    }
   },
   "types_to_exclude": [
    "module",
    "function",
    "builtin_function_or_method",
    "instance",
    "_Feature"
   ],
   "window_display": false
  }
 },
 "nbformat": 4,
 "nbformat_minor": 5
}
